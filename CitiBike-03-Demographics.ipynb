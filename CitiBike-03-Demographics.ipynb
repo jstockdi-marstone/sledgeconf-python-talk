{
 "cells": [
  {
   "cell_type": "markdown",
   "id": "fdc2897f",
   "metadata": {},
   "source": [
    "# Overview\n",
    "\n",
    "Demographics are only available until 202101, so they will be processed for only 2019-2020.  Given the COVID-19 Pandemic, \n",
    "comparing 2019 to 2020 will be valueable.\n",
    "\n",
    "All data will be imported into a dataframe, then filtered as needed to create views"
   ]
  },
  {
   "cell_type": "code",
   "execution_count": 1,
   "id": "c00b7b07",
   "metadata": {},
   "outputs": [
    {
     "name": "stdout",
     "output_type": "stream",
     "text": [
      "Using year months: ['201901', '201902', '201903', '201904', '201905', '201906', '201907', '201908', '201909', '201910', '201911', '201912', '202001', '202002', '202003', '202004', '202005', '202006', '202007', '202008', '202009', '202010', '202011', '202012']\n"
     ]
    }
   ],
   "source": [
    "import pandas as pd\n",
    "import itertools\n",
    "\n",
    "import matplotlib.pyplot as plt\n",
    "\n",
    "year_months = list(itertools.chain(\n",
    "    *[\n",
    "        [f\"{year}{str(month).zfill(2)}\" for month in range(1,13)] \n",
    "        for year in range(2019,2021)]))\n",
    "print(f\"Using year months: {year_months}\")"
   ]
  },
  {
   "cell_type": "code",
   "execution_count": 2,
   "id": "5883eb26",
   "metadata": {},
   "outputs": [
    {
     "data": {
      "text/html": [
       "<div>\n",
       "<style scoped>\n",
       "    .dataframe tbody tr th:only-of-type {\n",
       "        vertical-align: middle;\n",
       "    }\n",
       "\n",
       "    .dataframe tbody tr th {\n",
       "        vertical-align: top;\n",
       "    }\n",
       "\n",
       "    .dataframe thead th {\n",
       "        text-align: right;\n",
       "    }\n",
       "</style>\n",
       "<table border=\"1\" class=\"dataframe\">\n",
       "  <thead>\n",
       "    <tr style=\"text-align: right;\">\n",
       "      <th></th>\n",
       "      <th>tripduration</th>\n",
       "      <th>starttime</th>\n",
       "      <th>stoptime</th>\n",
       "      <th>start station id</th>\n",
       "      <th>start station name</th>\n",
       "      <th>start station latitude</th>\n",
       "      <th>start station longitude</th>\n",
       "      <th>end station id</th>\n",
       "      <th>end station name</th>\n",
       "      <th>end station latitude</th>\n",
       "      <th>end station longitude</th>\n",
       "      <th>bikeid</th>\n",
       "      <th>usertype</th>\n",
       "      <th>birth year</th>\n",
       "      <th>gender</th>\n",
       "    </tr>\n",
       "  </thead>\n",
       "  <tbody>\n",
       "    <tr>\n",
       "      <th>0</th>\n",
       "      <td>201</td>\n",
       "      <td>2019-01-01 03:09:09.7110</td>\n",
       "      <td>2019-01-01 03:12:30.8790</td>\n",
       "      <td>3183</td>\n",
       "      <td>Exchange Place</td>\n",
       "      <td>40.716247</td>\n",
       "      <td>-74.033459</td>\n",
       "      <td>3214</td>\n",
       "      <td>Essex Light Rail</td>\n",
       "      <td>40.712774</td>\n",
       "      <td>-74.036486</td>\n",
       "      <td>29612</td>\n",
       "      <td>Subscriber</td>\n",
       "      <td>1993</td>\n",
       "      <td>1</td>\n",
       "    </tr>\n",
       "    <tr>\n",
       "      <th>1</th>\n",
       "      <td>505</td>\n",
       "      <td>2019-01-01 05:18:00.1060</td>\n",
       "      <td>2019-01-01 05:26:25.9050</td>\n",
       "      <td>3183</td>\n",
       "      <td>Exchange Place</td>\n",
       "      <td>40.716247</td>\n",
       "      <td>-74.033459</td>\n",
       "      <td>3638</td>\n",
       "      <td>Washington St</td>\n",
       "      <td>40.724294</td>\n",
       "      <td>-74.035483</td>\n",
       "      <td>29213</td>\n",
       "      <td>Subscriber</td>\n",
       "      <td>1972</td>\n",
       "      <td>2</td>\n",
       "    </tr>\n",
       "    <tr>\n",
       "      <th>2</th>\n",
       "      <td>756</td>\n",
       "      <td>2019-01-01 10:36:33.3400</td>\n",
       "      <td>2019-01-01 10:49:10.2600</td>\n",
       "      <td>3183</td>\n",
       "      <td>Exchange Place</td>\n",
       "      <td>40.716247</td>\n",
       "      <td>-74.033459</td>\n",
       "      <td>3192</td>\n",
       "      <td>Liberty Light Rail</td>\n",
       "      <td>40.711242</td>\n",
       "      <td>-74.055701</td>\n",
       "      <td>26164</td>\n",
       "      <td>Subscriber</td>\n",
       "      <td>1985</td>\n",
       "      <td>1</td>\n",
       "    </tr>\n",
       "    <tr>\n",
       "      <th>3</th>\n",
       "      <td>1575</td>\n",
       "      <td>2019-01-01 12:43:38.6430</td>\n",
       "      <td>2019-01-01 13:09:54.5280</td>\n",
       "      <td>3183</td>\n",
       "      <td>Exchange Place</td>\n",
       "      <td>40.716247</td>\n",
       "      <td>-74.033459</td>\n",
       "      <td>3638</td>\n",
       "      <td>Washington St</td>\n",
       "      <td>40.724294</td>\n",
       "      <td>-74.035483</td>\n",
       "      <td>29672</td>\n",
       "      <td>Customer</td>\n",
       "      <td>1969</td>\n",
       "      <td>0</td>\n",
       "    </tr>\n",
       "    <tr>\n",
       "      <th>4</th>\n",
       "      <td>1566</td>\n",
       "      <td>2019-01-01 12:43:39.6010</td>\n",
       "      <td>2019-01-01 13:09:46.5100</td>\n",
       "      <td>3183</td>\n",
       "      <td>Exchange Place</td>\n",
       "      <td>40.716247</td>\n",
       "      <td>-74.033459</td>\n",
       "      <td>3638</td>\n",
       "      <td>Washington St</td>\n",
       "      <td>40.724294</td>\n",
       "      <td>-74.035483</td>\n",
       "      <td>29522</td>\n",
       "      <td>Customer</td>\n",
       "      <td>1969</td>\n",
       "      <td>0</td>\n",
       "    </tr>\n",
       "    <tr>\n",
       "      <th>...</th>\n",
       "      <td>...</td>\n",
       "      <td>...</td>\n",
       "      <td>...</td>\n",
       "      <td>...</td>\n",
       "      <td>...</td>\n",
       "      <td>...</td>\n",
       "      <td>...</td>\n",
       "      <td>...</td>\n",
       "      <td>...</td>\n",
       "      <td>...</td>\n",
       "      <td>...</td>\n",
       "      <td>...</td>\n",
       "      <td>...</td>\n",
       "      <td>...</td>\n",
       "      <td>...</td>\n",
       "    </tr>\n",
       "    <tr>\n",
       "      <th>11689</th>\n",
       "      <td>1750</td>\n",
       "      <td>2020-12-31 23:07:44.0030</td>\n",
       "      <td>2020-12-31 23:36:54.4710</td>\n",
       "      <td>3199</td>\n",
       "      <td>Newport Pkwy</td>\n",
       "      <td>40.728745</td>\n",
       "      <td>-74.032108</td>\n",
       "      <td>3199</td>\n",
       "      <td>Newport Pkwy</td>\n",
       "      <td>40.728745</td>\n",
       "      <td>-74.032108</td>\n",
       "      <td>40440</td>\n",
       "      <td>Customer</td>\n",
       "      <td>1969</td>\n",
       "      <td>0</td>\n",
       "    </tr>\n",
       "    <tr>\n",
       "      <th>11690</th>\n",
       "      <td>1519</td>\n",
       "      <td>2020-12-31 23:18:00.2630</td>\n",
       "      <td>2020-12-31 23:43:19.8590</td>\n",
       "      <td>3184</td>\n",
       "      <td>Paulus Hook</td>\n",
       "      <td>40.714145</td>\n",
       "      <td>-74.033552</td>\n",
       "      <td>3195</td>\n",
       "      <td>Sip Ave</td>\n",
       "      <td>40.730897</td>\n",
       "      <td>-74.063913</td>\n",
       "      <td>46340</td>\n",
       "      <td>Customer</td>\n",
       "      <td>1969</td>\n",
       "      <td>0</td>\n",
       "    </tr>\n",
       "    <tr>\n",
       "      <th>11691</th>\n",
       "      <td>1761</td>\n",
       "      <td>2020-12-31 23:31:09.4620</td>\n",
       "      <td>2021-01-01 00:00:31.3290</td>\n",
       "      <td>3195</td>\n",
       "      <td>Sip Ave</td>\n",
       "      <td>40.730897</td>\n",
       "      <td>-74.063913</td>\n",
       "      <td>3270</td>\n",
       "      <td>Jersey &amp; 6th St</td>\n",
       "      <td>40.725289</td>\n",
       "      <td>-74.045572</td>\n",
       "      <td>40907</td>\n",
       "      <td>Customer</td>\n",
       "      <td>1998</td>\n",
       "      <td>1</td>\n",
       "    </tr>\n",
       "    <tr>\n",
       "      <th>11692</th>\n",
       "      <td>637</td>\n",
       "      <td>2020-12-31 23:35:45.4640</td>\n",
       "      <td>2020-12-31 23:46:22.7300</td>\n",
       "      <td>3681</td>\n",
       "      <td>Grand St</td>\n",
       "      <td>40.715178</td>\n",
       "      <td>-74.037683</td>\n",
       "      <td>3199</td>\n",
       "      <td>Newport Pkwy</td>\n",
       "      <td>40.728745</td>\n",
       "      <td>-74.032108</td>\n",
       "      <td>42250</td>\n",
       "      <td>Customer</td>\n",
       "      <td>1969</td>\n",
       "      <td>0</td>\n",
       "    </tr>\n",
       "    <tr>\n",
       "      <th>11693</th>\n",
       "      <td>1607</td>\n",
       "      <td>2020-12-31 23:48:34.5750</td>\n",
       "      <td>2021-01-01 00:15:22.3090</td>\n",
       "      <td>3267</td>\n",
       "      <td>Morris Canal</td>\n",
       "      <td>40.712419</td>\n",
       "      <td>-74.038526</td>\n",
       "      <td>3267</td>\n",
       "      <td>Morris Canal</td>\n",
       "      <td>40.712419</td>\n",
       "      <td>-74.038526</td>\n",
       "      <td>48742</td>\n",
       "      <td>Subscriber</td>\n",
       "      <td>1982</td>\n",
       "      <td>1</td>\n",
       "    </tr>\n",
       "  </tbody>\n",
       "</table>\n",
       "<p>741749 rows × 15 columns</p>\n",
       "</div>"
      ],
      "text/plain": [
       "       tripduration                 starttime                  stoptime  \\\n",
       "0               201  2019-01-01 03:09:09.7110  2019-01-01 03:12:30.8790   \n",
       "1               505  2019-01-01 05:18:00.1060  2019-01-01 05:26:25.9050   \n",
       "2               756  2019-01-01 10:36:33.3400  2019-01-01 10:49:10.2600   \n",
       "3              1575  2019-01-01 12:43:38.6430  2019-01-01 13:09:54.5280   \n",
       "4              1566  2019-01-01 12:43:39.6010  2019-01-01 13:09:46.5100   \n",
       "...             ...                       ...                       ...   \n",
       "11689          1750  2020-12-31 23:07:44.0030  2020-12-31 23:36:54.4710   \n",
       "11690          1519  2020-12-31 23:18:00.2630  2020-12-31 23:43:19.8590   \n",
       "11691          1761  2020-12-31 23:31:09.4620  2021-01-01 00:00:31.3290   \n",
       "11692           637  2020-12-31 23:35:45.4640  2020-12-31 23:46:22.7300   \n",
       "11693          1607  2020-12-31 23:48:34.5750  2021-01-01 00:15:22.3090   \n",
       "\n",
       "       start station id start station name  start station latitude  \\\n",
       "0                  3183     Exchange Place               40.716247   \n",
       "1                  3183     Exchange Place               40.716247   \n",
       "2                  3183     Exchange Place               40.716247   \n",
       "3                  3183     Exchange Place               40.716247   \n",
       "4                  3183     Exchange Place               40.716247   \n",
       "...                 ...                ...                     ...   \n",
       "11689              3199       Newport Pkwy               40.728745   \n",
       "11690              3184        Paulus Hook               40.714145   \n",
       "11691              3195            Sip Ave               40.730897   \n",
       "11692              3681           Grand St               40.715178   \n",
       "11693              3267       Morris Canal               40.712419   \n",
       "\n",
       "       start station longitude  end station id    end station name  \\\n",
       "0                   -74.033459            3214    Essex Light Rail   \n",
       "1                   -74.033459            3638       Washington St   \n",
       "2                   -74.033459            3192  Liberty Light Rail   \n",
       "3                   -74.033459            3638       Washington St   \n",
       "4                   -74.033459            3638       Washington St   \n",
       "...                        ...             ...                 ...   \n",
       "11689               -74.032108            3199        Newport Pkwy   \n",
       "11690               -74.033552            3195             Sip Ave   \n",
       "11691               -74.063913            3270     Jersey & 6th St   \n",
       "11692               -74.037683            3199        Newport Pkwy   \n",
       "11693               -74.038526            3267        Morris Canal   \n",
       "\n",
       "       end station latitude  end station longitude  bikeid    usertype  \\\n",
       "0                 40.712774             -74.036486   29612  Subscriber   \n",
       "1                 40.724294             -74.035483   29213  Subscriber   \n",
       "2                 40.711242             -74.055701   26164  Subscriber   \n",
       "3                 40.724294             -74.035483   29672    Customer   \n",
       "4                 40.724294             -74.035483   29522    Customer   \n",
       "...                     ...                    ...     ...         ...   \n",
       "11689             40.728745             -74.032108   40440    Customer   \n",
       "11690             40.730897             -74.063913   46340    Customer   \n",
       "11691             40.725289             -74.045572   40907    Customer   \n",
       "11692             40.728745             -74.032108   42250    Customer   \n",
       "11693             40.712419             -74.038526   48742  Subscriber   \n",
       "\n",
       "       birth year  gender  \n",
       "0            1993       1  \n",
       "1            1972       2  \n",
       "2            1985       1  \n",
       "3            1969       0  \n",
       "4            1969       0  \n",
       "...           ...     ...  \n",
       "11689        1969       0  \n",
       "11690        1969       0  \n",
       "11691        1998       1  \n",
       "11692        1969       0  \n",
       "11693        1982       1  \n",
       "\n",
       "[741749 rows x 15 columns]"
      ]
     },
     "execution_count": 2,
     "metadata": {},
     "output_type": "execute_result"
    }
   ],
   "source": [
    "files = [f\"data/JC-{year_month}-citibike-tripdata.csv\" for year_month in year_months]\n",
    "\n",
    "df = pd.concat((pd.read_csv(file) for file in files))\n",
    "df "
   ]
  },
  {
   "cell_type": "code",
   "execution_count": 3,
   "id": "3cbfb02b",
   "metadata": {},
   "outputs": [],
   "source": [
    "df['startdt'] = pd.to_datetime(df['starttime'])\n",
    "df['startyear'] = pd.DatetimeIndex(df['startdt']).year"
   ]
  },
  {
   "cell_type": "code",
   "execution_count": 4,
   "id": "17da431f",
   "metadata": {},
   "outputs": [
    {
     "data": {
      "text/html": [
       "<div>\n",
       "<style scoped>\n",
       "    .dataframe tbody tr th:only-of-type {\n",
       "        vertical-align: middle;\n",
       "    }\n",
       "\n",
       "    .dataframe tbody tr th {\n",
       "        vertical-align: top;\n",
       "    }\n",
       "\n",
       "    .dataframe thead th {\n",
       "        text-align: right;\n",
       "    }\n",
       "</style>\n",
       "<table border=\"1\" class=\"dataframe\">\n",
       "  <thead>\n",
       "    <tr style=\"text-align: right;\">\n",
       "      <th></th>\n",
       "      <th>tripduration</th>\n",
       "      <th>starttime</th>\n",
       "      <th>stoptime</th>\n",
       "      <th>start station id</th>\n",
       "      <th>start station name</th>\n",
       "      <th>start station latitude</th>\n",
       "      <th>start station longitude</th>\n",
       "      <th>end station id</th>\n",
       "      <th>end station name</th>\n",
       "      <th>end station latitude</th>\n",
       "      <th>end station longitude</th>\n",
       "      <th>bikeid</th>\n",
       "      <th>usertype</th>\n",
       "      <th>birth year</th>\n",
       "      <th>gender</th>\n",
       "      <th>startdt</th>\n",
       "      <th>startyear</th>\n",
       "    </tr>\n",
       "  </thead>\n",
       "  <tbody>\n",
       "    <tr>\n",
       "      <th>0</th>\n",
       "      <td>201</td>\n",
       "      <td>2019-01-01 03:09:09.7110</td>\n",
       "      <td>2019-01-01 03:12:30.8790</td>\n",
       "      <td>3183</td>\n",
       "      <td>Exchange Place</td>\n",
       "      <td>40.716247</td>\n",
       "      <td>-74.033459</td>\n",
       "      <td>3214</td>\n",
       "      <td>Essex Light Rail</td>\n",
       "      <td>40.712774</td>\n",
       "      <td>-74.036486</td>\n",
       "      <td>29612</td>\n",
       "      <td>Subscriber</td>\n",
       "      <td>1993</td>\n",
       "      <td>1</td>\n",
       "      <td>2019-01-01 03:09:09.711</td>\n",
       "      <td>2019</td>\n",
       "    </tr>\n",
       "    <tr>\n",
       "      <th>1</th>\n",
       "      <td>505</td>\n",
       "      <td>2019-01-01 05:18:00.1060</td>\n",
       "      <td>2019-01-01 05:26:25.9050</td>\n",
       "      <td>3183</td>\n",
       "      <td>Exchange Place</td>\n",
       "      <td>40.716247</td>\n",
       "      <td>-74.033459</td>\n",
       "      <td>3638</td>\n",
       "      <td>Washington St</td>\n",
       "      <td>40.724294</td>\n",
       "      <td>-74.035483</td>\n",
       "      <td>29213</td>\n",
       "      <td>Subscriber</td>\n",
       "      <td>1972</td>\n",
       "      <td>2</td>\n",
       "      <td>2019-01-01 05:18:00.106</td>\n",
       "      <td>2019</td>\n",
       "    </tr>\n",
       "    <tr>\n",
       "      <th>2</th>\n",
       "      <td>756</td>\n",
       "      <td>2019-01-01 10:36:33.3400</td>\n",
       "      <td>2019-01-01 10:49:10.2600</td>\n",
       "      <td>3183</td>\n",
       "      <td>Exchange Place</td>\n",
       "      <td>40.716247</td>\n",
       "      <td>-74.033459</td>\n",
       "      <td>3192</td>\n",
       "      <td>Liberty Light Rail</td>\n",
       "      <td>40.711242</td>\n",
       "      <td>-74.055701</td>\n",
       "      <td>26164</td>\n",
       "      <td>Subscriber</td>\n",
       "      <td>1985</td>\n",
       "      <td>1</td>\n",
       "      <td>2019-01-01 10:36:33.340</td>\n",
       "      <td>2019</td>\n",
       "    </tr>\n",
       "    <tr>\n",
       "      <th>3</th>\n",
       "      <td>1575</td>\n",
       "      <td>2019-01-01 12:43:38.6430</td>\n",
       "      <td>2019-01-01 13:09:54.5280</td>\n",
       "      <td>3183</td>\n",
       "      <td>Exchange Place</td>\n",
       "      <td>40.716247</td>\n",
       "      <td>-74.033459</td>\n",
       "      <td>3638</td>\n",
       "      <td>Washington St</td>\n",
       "      <td>40.724294</td>\n",
       "      <td>-74.035483</td>\n",
       "      <td>29672</td>\n",
       "      <td>Customer</td>\n",
       "      <td>1969</td>\n",
       "      <td>0</td>\n",
       "      <td>2019-01-01 12:43:38.643</td>\n",
       "      <td>2019</td>\n",
       "    </tr>\n",
       "    <tr>\n",
       "      <th>4</th>\n",
       "      <td>1566</td>\n",
       "      <td>2019-01-01 12:43:39.6010</td>\n",
       "      <td>2019-01-01 13:09:46.5100</td>\n",
       "      <td>3183</td>\n",
       "      <td>Exchange Place</td>\n",
       "      <td>40.716247</td>\n",
       "      <td>-74.033459</td>\n",
       "      <td>3638</td>\n",
       "      <td>Washington St</td>\n",
       "      <td>40.724294</td>\n",
       "      <td>-74.035483</td>\n",
       "      <td>29522</td>\n",
       "      <td>Customer</td>\n",
       "      <td>1969</td>\n",
       "      <td>0</td>\n",
       "      <td>2019-01-01 12:43:39.601</td>\n",
       "      <td>2019</td>\n",
       "    </tr>\n",
       "  </tbody>\n",
       "</table>\n",
       "</div>"
      ],
      "text/plain": [
       "   tripduration                 starttime                  stoptime  \\\n",
       "0           201  2019-01-01 03:09:09.7110  2019-01-01 03:12:30.8790   \n",
       "1           505  2019-01-01 05:18:00.1060  2019-01-01 05:26:25.9050   \n",
       "2           756  2019-01-01 10:36:33.3400  2019-01-01 10:49:10.2600   \n",
       "3          1575  2019-01-01 12:43:38.6430  2019-01-01 13:09:54.5280   \n",
       "4          1566  2019-01-01 12:43:39.6010  2019-01-01 13:09:46.5100   \n",
       "\n",
       "   start station id start station name  start station latitude  \\\n",
       "0              3183     Exchange Place               40.716247   \n",
       "1              3183     Exchange Place               40.716247   \n",
       "2              3183     Exchange Place               40.716247   \n",
       "3              3183     Exchange Place               40.716247   \n",
       "4              3183     Exchange Place               40.716247   \n",
       "\n",
       "   start station longitude  end station id    end station name  \\\n",
       "0               -74.033459            3214    Essex Light Rail   \n",
       "1               -74.033459            3638       Washington St   \n",
       "2               -74.033459            3192  Liberty Light Rail   \n",
       "3               -74.033459            3638       Washington St   \n",
       "4               -74.033459            3638       Washington St   \n",
       "\n",
       "   end station latitude  end station longitude  bikeid    usertype  \\\n",
       "0             40.712774             -74.036486   29612  Subscriber   \n",
       "1             40.724294             -74.035483   29213  Subscriber   \n",
       "2             40.711242             -74.055701   26164  Subscriber   \n",
       "3             40.724294             -74.035483   29672    Customer   \n",
       "4             40.724294             -74.035483   29522    Customer   \n",
       "\n",
       "   birth year  gender                 startdt  startyear  \n",
       "0        1993       1 2019-01-01 03:09:09.711       2019  \n",
       "1        1972       2 2019-01-01 05:18:00.106       2019  \n",
       "2        1985       1 2019-01-01 10:36:33.340       2019  \n",
       "3        1969       0 2019-01-01 12:43:38.643       2019  \n",
       "4        1969       0 2019-01-01 12:43:39.601       2019  "
      ]
     },
     "execution_count": 4,
     "metadata": {},
     "output_type": "execute_result"
    }
   ],
   "source": [
    "df_head = df.head()\n",
    "df_head"
   ]
  },
  {
   "cell_type": "code",
   "execution_count": 5,
   "id": "c15b9e23",
   "metadata": {},
   "outputs": [
    {
     "data": {
      "text/plain": [
       "1    486213\n",
       "2    176937\n",
       "0     78599\n",
       "Name: gender, dtype: int64"
      ]
     },
     "execution_count": 5,
     "metadata": {},
     "output_type": "execute_result"
    }
   ],
   "source": [
    "gender_df = df['gender'].value_counts()\n",
    "gender_df"
   ]
  },
  {
   "cell_type": "code",
   "execution_count": 6,
   "id": "07081538",
   "metadata": {},
   "outputs": [
    {
     "data": {
      "text/plain": [
       "<AxesSubplot:>"
      ]
     },
     "execution_count": 6,
     "metadata": {},
     "output_type": "execute_result"
    },
    {
     "data": {
      "image/png": "[encoded data removed]",
      "text/plain": [
       "<Figure size 432x288 with 1 Axes>"
      ]
     },
     "metadata": {
      "needs_background": "light"
     },
     "output_type": "display_data"
    }
   ],
   "source": [
    "gender_df.plot.bar()"
   ]
  },
  {
   "cell_type": "code",
   "execution_count": 7,
   "id": "49fedecd",
   "metadata": {},
   "outputs": [
    {
     "data": {
      "text/plain": [
       "<AxesSubplot:>"
      ]
     },
     "execution_count": 7,
     "metadata": {},
     "output_type": "execute_result"
    },
    {
     "data": {
      "image/png": "[encoded data removed]",
      "text/plain": [
       "<Figure size 432x288 with 1 Axes>"
      ]
     },
     "metadata": {
      "needs_background": "light"
     },
     "output_type": "display_data"
    }
   ],
   "source": [
    "df[df.startdt > '2020-01-01']['gender'].value_counts().plot.bar()"
   ]
  },
  {
   "cell_type": "code",
   "execution_count": 8,
   "id": "b625d9b1",
   "metadata": {},
   "outputs": [
    {
     "data": {
      "text/plain": [
       "<AxesSubplot:xlabel='startyear,gender'>"
      ]
     },
     "execution_count": 8,
     "metadata": {},
     "output_type": "execute_result"
    },
    {
     "data": {
      "image/png": "[encoded data removed]",
      "text/plain": [
       "<Figure size 432x288 with 1 Axes>"
      ]
     },
     "metadata": {
      "needs_background": "light"
     },
     "output_type": "display_data"
    }
   ],
   "source": [
    "groups = df.groupby(['startyear', 'gender']).size()\n",
    "groups.plot.bar(width=0.8)"
   ]
  },
  {
   "cell_type": "code",
   "execution_count": 9,
   "id": "b98d8f0f",
   "metadata": {},
   "outputs": [
    {
     "data": {
      "text/plain": [
       "<AxesSubplot:>"
      ]
     },
     "execution_count": 9,
     "metadata": {},
     "output_type": "execute_result"
    },
    {
     "data": {
      "image/png": "[encoded data removed]",
      "text/plain": [
       "<Figure size 432x288 with 1 Axes>"
      ]
     },
     "metadata": {
      "needs_background": "light"
     },
     "output_type": "display_data"
    }
   ],
   "source": [
    "df['birth year'].hist()"
   ]
  },
  {
   "cell_type": "code",
   "execution_count": 10,
   "id": "d7b4b18c",
   "metadata": {},
   "outputs": [
    {
     "data": {
      "text/plain": [
       "<AxesSubplot:>"
      ]
     },
     "execution_count": 10,
     "metadata": {},
     "output_type": "execute_result"
    },
    {
     "data": {
      "image/png": "[encoded data removed]",
      "text/plain": [
       "<Figure size 432x288 with 1 Axes>"
      ]
     },
     "metadata": {
      "needs_background": "light"
     },
     "output_type": "display_data"
    }
   ],
   "source": [
    "bins=  [1930,     1965,    1980,       1995,    2010]\n",
    "labels=['Boomers','Gen X','Millenials','Gen Z']\n",
    "\n",
    "birth_year = pd.cut(df['birth year'], bins=bins, include_lowest=True, labels=labels)\n",
    "\n",
    "birth_year.value_counts(sort=False).plot.bar()"
   ]
  },
  {
   "cell_type": "code",
   "execution_count": 11,
   "id": "2588226a",
   "metadata": {},
   "outputs": [],
   "source": [
    "\n",
    "import math\n",
    "\n",
    "def distance(origin, destination):\n",
    "    \"\"\"\n",
    "    Calculate the Haversine distance.\n",
    "\n",
    "    Parameters\n",
    "    ----------\n",
    "    origin : tuple of float\n",
    "        (lat, long)\n",
    "    destination : tuple of float\n",
    "        (lat, long)\n",
    "\n",
    "    Returns\n",
    "    -------\n",
    "    distance_in_km : float\n",
    "\n",
    "    Examples\n",
    "    --------\n",
    "    >>> origin = (48.1372, 11.5756)  # Munich\n",
    "    >>> destination = (52.5186, 13.4083)  # Berlin\n",
    "    >>> round(distance(origin, destination), 1)\n",
    "    504.2\n",
    "    \"\"\"\n",
    "    \n",
    "    miles = 0.621371\n",
    "    \n",
    "    lat1, lon1 = origin\n",
    "    lat2, lon2 = destination\n",
    "    radius = 6371  # km\n",
    "\n",
    "    dlat = math.radians(lat2 - lat1)\n",
    "    dlon = math.radians(lon2 - lon1)\n",
    "    a = (math.sin(dlat / 2) * math.sin(dlat / 2) +\n",
    "         math.cos(math.radians(lat1)) * math.cos(math.radians(lat2)) *\n",
    "         math.sin(dlon / 2) * math.sin(dlon / 2))\n",
    "    c = 2 * math.atan2(math.sqrt(a), math.sqrt(1 - a))\n",
    "    d = radius * c\n",
    "\n",
    "    return d*miles\n",
    "\n",
    "\n",
    "def distance_row(row):\n",
    "    return distance(\n",
    "        (row['start station latitude'], row['start station longitude']),\n",
    "        (row['end station latitude'], row['end station longitude'])\n",
    "    )\n",
    "\n",
    "df['distance'] = df.apply(lambda row: distance_row(row), axis=1)"
   ]
  },
  {
   "cell_type": "code",
   "execution_count": 12,
   "id": "e3e8cff7",
   "metadata": {},
   "outputs": [
    {
     "data": {
      "text/plain": [
       "<AxesSubplot:ylabel='Frequency'>"
      ]
     },
     "execution_count": 12,
     "metadata": {},
     "output_type": "execute_result"
    },
    {
     "data": {
      "image/png": "[encoded data removed]",
      "text/plain": [
       "<Figure size 432x288 with 1 Axes>"
      ]
     },
     "metadata": {
      "needs_background": "light"
     },
     "output_type": "display_data"
    }
   ],
   "source": [
    "df_under_three = df[df['distance'] < 3]\n",
    "\n",
    "df_under_three['distance'].plot.hist(rwidth=0.8, bins=20)"
   ]
  },
  {
   "cell_type": "code",
   "execution_count": 19,
   "id": "7ce58afd",
   "metadata": {},
   "outputs": [
    {
     "data": {
      "text/plain": [
       "<AxesSubplot:ylabel='Frequency'>"
      ]
     },
     "execution_count": 19,
     "metadata": {},
     "output_type": "execute_result"
    },
    {
     "data": {
      "image/png": "[encoded data removed]",
      "text/plain": [
       "<Figure size 432x288 with 1 Axes>"
      ]
     },
     "metadata": {
      "needs_background": "light"
     },
     "output_type": "display_data"
    }
   ],
   "source": [
    "df_under_three[df_under_three['gender'] == 1]['distance'].plot.hist(rwidth=0.8, bins=20)\n",
    "df_under_three[df_under_three['gender'] == 2]['distance'].plot.hist(rwidth=0.8, bins=20)"
   ]
  },
  {
   "cell_type": "code",
   "execution_count": 25,
   "id": "861c83b1",
   "metadata": {},
   "outputs": [
    {
     "name": "stdout",
     "output_type": "stream",
     "text": [
      "[all] => mean: 0.618857577953076, std: 0.44373309135689454\n",
      "[1]   => mean: 0.6232906353259005, std: 0.4342718626225462\n",
      "[2]   => mean: 0.6041326280024102, std: 0.4227887826510318\n"
     ]
    }
   ],
   "source": [
    "mean = df_under_three['distance'].mean()\n",
    "std = df_under_three['distance'].std()\n",
    "\n",
    "print(f\"[all] => mean: {mean}, std: {std}\")\n",
    "\n",
    "for gndr in [1,2]:\n",
    "    distance_series = df_under_three[df_under_three['gender'] == gndr]['distance']\n",
    "    print(f\"[{gndr}]   => mean: {distance_series.mean()}, std: {distance_series.std()}\")"
   ]
  },
  {
   "cell_type": "code",
   "execution_count": null,
   "id": "27be7732",
   "metadata": {},
   "outputs": [],
   "source": []
  }
 ],
 "metadata": {
  "kernelspec": {
   "display_name": "Python 3 (ipykernel)",
   "language": "python",
   "name": "python3"
  },
  "language_info": {
   "codemirror_mode": {
    "name": "ipython",
    "version": 3
   },
   "file_extension": ".py",
   "mimetype": "text/x-python",
   "name": "python",
   "nbconvert_exporter": "python",
   "pygments_lexer": "ipython3",
   "version": "3.9.5"
  }
 },
 "nbformat": 4,
 "nbformat_minor": 5
}
