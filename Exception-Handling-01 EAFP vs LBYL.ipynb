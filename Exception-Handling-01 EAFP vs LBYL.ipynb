{
 "cells": [
  {
   "cell_type": "markdown",
   "id": "ff1b0867",
   "metadata": {},
   "source": [
    "# EAFP\n",
    "\n",
    "From the Python Docs,  prefer \"Easier to ask for forgiveness than permission\" over LBYL \"Look Before You Leap\"\n",
    "https://docs.python.org/3.5/glossary.html#term-eafp\n",
    "\n",
    "Okay, what does that mean?  Quite simply it means, if it makes it more readable try it, then handle it if it fails."
   ]
  },
  {
   "cell_type": "code",
   "execution_count": 45,
   "id": "8b240e02",
   "metadata": {},
   "outputs": [],
   "source": [
    "import json\n",
    "\n",
    "#Basic KeyError Example\n",
    "activity_splits = {\n",
    "        \"miles\":  25,\n",
    "        \"minutes\":  59.34,\n",
    "        \"split_times\": [10.04, 9.34, 11.3, 12.2]\n",
    "    }\n",
    "    \n",
    "activity = {\n",
    "        \"miles\":  25,\n",
    "        \"minutes\":  59.34\n",
    "    }\n"
   ]
  },
  {
   "cell_type": "code",
   "execution_count": 16,
   "id": "8318cb7e",
   "metadata": {},
   "outputs": [],
   "source": [
    "def lbyl(activity):\n",
    "\n",
    "    # LBYL\n",
    "    if \"split_times\" in activity:\n",
    "        total = 0\n",
    "        [total := total + split for split in activity[\"split_times\"]]\n",
    "\n",
    "        average = total/len(activity[\"split_times\"])\n",
    "\n",
    "        print(f\"Average: {average}\")\n",
    "    else:\n",
    "        print(\"WARN:  Missing splits\")"
   ]
  },
  {
   "cell_type": "code",
   "execution_count": 17,
   "id": "146f0e6c",
   "metadata": {},
   "outputs": [
    {
     "name": "stdout",
     "output_type": "stream",
     "text": [
      "Average: 10.719999999999999\n"
     ]
    }
   ],
   "source": [
    "# Splits\n",
    "lbyl(activity_splits)"
   ]
  },
  {
   "cell_type": "code",
   "execution_count": 18,
   "id": "a82eba37",
   "metadata": {},
   "outputs": [
    {
     "name": "stdout",
     "output_type": "stream",
     "text": [
      "WARN:  Missing splits\n"
     ]
    }
   ],
   "source": [
    "# No Splits\n",
    "lbyl(activity)"
   ]
  },
  {
   "cell_type": "code",
   "execution_count": 22,
   "id": "646f4bf5",
   "metadata": {},
   "outputs": [],
   "source": [
    "## EAFP\n",
    "def eafp(activity):\n",
    "    try:\n",
    "        total = 0\n",
    "        [total := total + split for split in activity[\"split_times\"]]\n",
    "\n",
    "        average = total/len(activity[\"split_times\"])\n",
    "\n",
    "        print(f\"Average: {average}\")\n",
    "    except:     ###Worst idea ever \n",
    "        print(\"WARN:  Missing splits\")\n",
    "        pass\n",
    " \n",
    "\n"
   ]
  },
  {
   "cell_type": "code",
   "execution_count": 23,
   "id": "ad41af6c",
   "metadata": {},
   "outputs": [
    {
     "name": "stdout",
     "output_type": "stream",
     "text": [
      "Average: 10.719999999999999\n"
     ]
    }
   ],
   "source": [
    "# Splits\n",
    "eafp(activity_splits)\n"
   ]
  },
  {
   "cell_type": "code",
   "execution_count": 24,
   "id": "259d68d1",
   "metadata": {},
   "outputs": [
    {
     "name": "stdout",
     "output_type": "stream",
     "text": [
      "WARN:  Missing splits\n"
     ]
    }
   ],
   "source": [
    "# No Splits\n",
    "eafp(activity)"
   ]
  },
  {
   "cell_type": "code",
   "execution_count": 42,
   "id": "571fd887",
   "metadata": {},
   "outputs": [],
   "source": [
    "def eafp_else(activity):\n",
    "    try:\n",
    "        split_times = activity[\"split_times\"]   \n",
    "    except KeyError:\n",
    "        print(f\"WARN:  Missing splits: {json.dumps(activity)}\")\n",
    "    else:\n",
    "        total = 0\n",
    "        [total := total + split for split in split_times]\n",
    "\n",
    "        average = total/len(split_times)\n",
    "\n",
    "        print(f\"Average: {average}\")\n",
    "    finally:\n",
    "        print(\"Processed activity.\")"
   ]
  },
  {
   "cell_type": "code",
   "execution_count": 43,
   "id": "edccc19c",
   "metadata": {},
   "outputs": [
    {
     "name": "stdout",
     "output_type": "stream",
     "text": [
      "Average: 10.719999999999999\n",
      "Processed activity.\n"
     ]
    }
   ],
   "source": [
    "#Splits\n",
    "eafp_else(activity_splits)"
   ]
  },
  {
   "cell_type": "code",
   "execution_count": 44,
   "id": "fae11b46",
   "metadata": {},
   "outputs": [
    {
     "name": "stdout",
     "output_type": "stream",
     "text": [
      "WARN:  Missing splits: {\"miles\": 25, \"minutes\": 59.34}\n",
      "Processed activity.\n"
     ]
    }
   ],
   "source": [
    "# No splits\n",
    "eafp_else(activity)"
   ]
  },
  {
   "cell_type": "code",
   "execution_count": 59,
   "id": "28a48d3e",
   "metadata": {},
   "outputs": [],
   "source": [
    "### Refactor to increase readability\n",
    "\n",
    "def avg(split_times):\n",
    "    total = 0\n",
    "    [total := total + split for split in split_times]\n",
    "\n",
    "    return total/len(split_times)\n",
    "\n",
    "\n",
    "def eafp_else(activity):\n",
    "    try:\n",
    "        split_times = activity[\"split_times\"]   \n",
    "    except:\n",
    "        print(f\"WARN:  Missing splits: {json.dumps(activity)}\")\n",
    "    else:\n",
    "        return avg(split_times)\n"
   ]
  },
  {
   "cell_type": "code",
   "execution_count": 60,
   "id": "e8a56627",
   "metadata": {},
   "outputs": [
    {
     "data": {
      "text/plain": [
       "10.719999999999999"
      ]
     },
     "execution_count": 60,
     "metadata": {},
     "output_type": "execute_result"
    }
   ],
   "source": [
    "# Splits\n",
    "eafp_else(activity_splits)"
   ]
  },
  {
   "cell_type": "code",
   "execution_count": 61,
   "id": "8693d50b",
   "metadata": {},
   "outputs": [
    {
     "name": "stdout",
     "output_type": "stream",
     "text": [
      "WARN:  Missing splits: {\"miles\": 25, \"minutes\": 59.34}\n"
     ]
    }
   ],
   "source": [
    "# No splits\n",
    "eafp_else(activity)"
   ]
  },
  {
   "cell_type": "code",
   "execution_count": 66,
   "id": "c2392f16",
   "metadata": {},
   "outputs": [
    {
     "name": "stdout",
     "output_type": "stream",
     "text": [
      "WARN:  Missing splits: {}\n"
     ]
    }
   ],
   "source": [
    "## Test average (could fuzz test or send in lots of permutations)\n",
    "splits = [17.5,16.8,14.3]\n",
    "    \n",
    "assert 16.2 == avg(splits)\n",
    "    \n",
    "## Test except clause\n",
    "eafp_else({})\n",
    "\n",
    "## Test happy Path\n",
    "assert 16.2 == eafp_else({\n",
    "    \"split_times\": splits\n",
    "})"
   ]
  },
  {
   "cell_type": "code",
   "execution_count": 65,
   "id": "d97bcbec",
   "metadata": {},
   "outputs": [
    {
     "ename": "ZeroDivisionError",
     "evalue": "division by zero",
     "output_type": "error",
     "traceback": [
      "\u001b[0;31m---------------------------------------------------------------------------\u001b[0m",
      "\u001b[0;31mZeroDivisionError\u001b[0m                         Traceback (most recent call last)",
      "\u001b[0;32m/tmp/ipykernel_12249/2326928313.py\u001b[0m in \u001b[0;36m<module>\u001b[0;34m\u001b[0m\n\u001b[1;32m      1\u001b[0m \u001b[0;31m# What should be done here?\u001b[0m\u001b[0;34m\u001b[0m\u001b[0;34m\u001b[0m\u001b[0;34m\u001b[0m\u001b[0m\n\u001b[0;32m----> 2\u001b[0;31m \u001b[0mavg\u001b[0m\u001b[0;34m(\u001b[0m\u001b[0;34m[\u001b[0m\u001b[0;34m]\u001b[0m\u001b[0;34m)\u001b[0m\u001b[0;34m\u001b[0m\u001b[0;34m\u001b[0m\u001b[0m\n\u001b[0m",
      "\u001b[0;32m/tmp/ipykernel_12249/1221674099.py\u001b[0m in \u001b[0;36mavg\u001b[0;34m(split_times)\u001b[0m\n\u001b[1;32m      5\u001b[0m     \u001b[0;34m[\u001b[0m\u001b[0mtotal\u001b[0m \u001b[0;34m:=\u001b[0m \u001b[0mtotal\u001b[0m \u001b[0;34m+\u001b[0m \u001b[0msplit\u001b[0m \u001b[0;32mfor\u001b[0m \u001b[0msplit\u001b[0m \u001b[0;32min\u001b[0m \u001b[0msplit_times\u001b[0m\u001b[0;34m]\u001b[0m\u001b[0;34m\u001b[0m\u001b[0;34m\u001b[0m\u001b[0m\n\u001b[1;32m      6\u001b[0m \u001b[0;34m\u001b[0m\u001b[0m\n\u001b[0;32m----> 7\u001b[0;31m     \u001b[0;32mreturn\u001b[0m \u001b[0mtotal\u001b[0m\u001b[0;34m/\u001b[0m\u001b[0mlen\u001b[0m\u001b[0;34m(\u001b[0m\u001b[0msplit_times\u001b[0m\u001b[0;34m)\u001b[0m\u001b[0;34m\u001b[0m\u001b[0;34m\u001b[0m\u001b[0m\n\u001b[0m\u001b[1;32m      8\u001b[0m \u001b[0;34m\u001b[0m\u001b[0m\n\u001b[1;32m      9\u001b[0m \u001b[0;34m\u001b[0m\u001b[0m\n",
      "\u001b[0;31mZeroDivisionError\u001b[0m: division by zero"
     ]
    }
   ],
   "source": [
    "# What should be done here?  LBYL vs EAFP...  How do you tell the user of the API what to expect?\n",
    "avg([])\n",
    "\n",
    "## See: https://github.com/python/cpython/blob/main/Lib/statistics.py  \n",
    "## Search for \"try:\" to see examples of EAFP, \"raise\" for LBYL"
   ]
  },
  {
   "cell_type": "code",
   "execution_count": null,
   "id": "7cf3b2b8",
   "metadata": {},
   "outputs": [],
   "source": [
    "# References\n",
    "\n",
    "* Real Python Exceptions: https://realpython.com/lessons/exceptions-and-how-raise-them/\n",
    "* Understanding the Python Traceback https://realpython.com/python-traceback/\n"
   ]
  }
 ],
 "metadata": {
  "kernelspec": {
   "display_name": "Python 3 (ipykernel)",
   "language": "python",
   "name": "python3"
  },
  "language_info": {
   "codemirror_mode": {
    "name": "ipython",
    "version": 3
   },
   "file_extension": ".py",
   "mimetype": "text/x-python",
   "name": "python",
   "nbconvert_exporter": "python",
   "pygments_lexer": "ipython3",
   "version": "3.9.5"
  }
 },
 "nbformat": 4,
 "nbformat_minor": 5
}
