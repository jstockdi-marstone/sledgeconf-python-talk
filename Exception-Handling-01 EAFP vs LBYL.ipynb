{
 "cells": [
  {
   "cell_type": "markdown",
   "id": "ff1b0867",
   "metadata": {},
   "source": [
    "# EAFP\n",
    "\n",
    "From the Python Docs,  prefer \"Easier to ask for forgiveness than permission\" over LBYL \"Look Before You Leap\"\n",
    "https://docs.python.org/3.5/glossary.html#term-eafp\n",
    "\n",
    "Okay, what does that mean?  Quite simply it means, if it makes it more readable try it, then handle it if it fails."
   ]
  },
  {
   "cell_type": "code",
   "execution_count": 1,
   "id": "8b240e02",
   "metadata": {},
   "outputs": [],
   "source": [
    "import json\n",
    "\n",
    "#Basic KeyError Example\n",
    "activities = [\n",
    "    {\n",
    "        \"miles\":  25,\n",
    "        \"minutes\":  59.34,\n",
    "        \"split_times\": [10.04, 9.34, 11.3, 12.2]\n",
    "    },\n",
    "    {\n",
    "        \"miles\":  25,\n",
    "        \"minutes\":  59.34\n",
    "    }\n",
    "]\n",
    "\n",
    "activity = activities[0]"
   ]
  },
  {
   "cell_type": "code",
   "execution_count": 2,
   "id": "8318cb7e",
   "metadata": {},
   "outputs": [
    {
     "name": "stdout",
     "output_type": "stream",
     "text": [
      "Average: 10.719999999999999\n"
     ]
    }
   ],
   "source": [
    "def lbyl(activity):\n",
    "\n",
    "    # LBYL\n",
    "    if \"split_times\" in activity:\n",
    "        total = 0\n",
    "        [total := total + split for split in activity[\"split_times\"]]\n",
    "\n",
    "        average = total/len(activity[\"split_times\"])\n",
    "\n",
    "        print(f\"Average: {average}\")\n",
    "    else:\n",
    "        print(\"ERROR:  Log bad data\")\n",
    "\n",
    "\n",
    "lbyl(activity)"
   ]
  },
  {
   "cell_type": "code",
   "execution_count": 3,
   "id": "646f4bf5",
   "metadata": {},
   "outputs": [
    {
     "name": "stdout",
     "output_type": "stream",
     "text": [
      "Average: 10.719999999999999\n"
     ]
    }
   ],
   "source": [
    "## EAFP\n",
    "def eafp(activity):\n",
    "    try:\n",
    "        total = 0\n",
    "        [total := total + split for split in activity[\"split_times\"]]\n",
    "\n",
    "        average = total/len(activity[\"split_times\"])\n",
    "\n",
    "        print(f\"Average: {average}\")\n",
    "    except:\n",
    "        print(\"ERROR:  Log bad data\")\n",
    " \n",
    "\n",
    "eafp(activity)"
   ]
  },
  {
   "cell_type": "code",
   "execution_count": 11,
   "id": "571fd887",
   "metadata": {},
   "outputs": [
    {
     "name": "stdout",
     "output_type": "stream",
     "text": [
      "Average: 10.719999999999999\n"
     ]
    }
   ],
   "source": [
    "def eafp_else(activity):\n",
    "    try:\n",
    "        split_times = activity[\"split_times\"]   \n",
    "    except:\n",
    "        print(f\"ERROR:  Log bad data: {json.dumps(activity)}\")\n",
    "    else:\n",
    "        total = 0\n",
    "        [total := total + split for split in split_times]\n",
    "\n",
    "        average = total/len(split_times)\n",
    "\n",
    "        print(f\"Average: {average}\")\n",
    "\n",
    "\n",
    "eafp_else(activity)"
   ]
  },
  {
   "cell_type": "code",
   "execution_count": 7,
   "id": "fa071d4e",
   "metadata": {},
   "outputs": [
    {
     "name": "stdout",
     "output_type": "stream",
     "text": [
      "Average: 10.719999999999999\n",
      "ERROR:  Log bad data: {\"miles\": 25, \"minutes\": 59.34}\n"
     ]
    },
    {
     "data": {
      "text/plain": [
       "[None, None]"
      ]
     },
     "execution_count": 7,
     "metadata": {},
     "output_type": "execute_result"
    }
   ],
   "source": [
    "[eafp_else(activity) for activity in activities]"
   ]
  },
  {
   "cell_type": "code",
   "execution_count": 12,
   "id": "28a48d3e",
   "metadata": {},
   "outputs": [
    {
     "name": "stdout",
     "output_type": "stream",
     "text": [
      "Average: 10.719999999999999\n"
     ]
    }
   ],
   "source": [
    "### Refactor to increase readability\n",
    "\n",
    "def avg(split_times):\n",
    "    total = 0\n",
    "    [total := total + split for split in split_times]\n",
    "\n",
    "    return total/len(split_times)\n",
    "\n",
    "\n",
    "def eafp_else(activity):\n",
    "    try:\n",
    "        split_times = activity[\"split_times\"]   \n",
    "    except:\n",
    "        print(f\"ERROR:  Log bad data: {json.dumps(activity)}\")\n",
    "    else:\n",
    "        average = avg(split_times)\n",
    "\n",
    "        print(f\"Average: {average}\")\n",
    "\n",
    "\n",
    "eafp_else(activity)"
   ]
  },
  {
   "cell_type": "code",
   "execution_count": null,
   "id": "e8a56627",
   "metadata": {},
   "outputs": [],
   "source": []
  }
 ],
 "metadata": {
  "kernelspec": {
   "display_name": "Python 3 (ipykernel)",
   "language": "python",
   "name": "python3"
  },
  "language_info": {
   "codemirror_mode": {
    "name": "ipython",
    "version": 3
   },
   "file_extension": ".py",
   "mimetype": "text/x-python",
   "name": "python",
   "nbconvert_exporter": "python",
   "pygments_lexer": "ipython3",
   "version": "3.9.5"
  }
 },
 "nbformat": 4,
 "nbformat_minor": 5
}
