{
 "cells": [
  {
   "cell_type": "markdown",
   "id": "51dee194",
   "metadata": {},
   "source": [
    "##  Overview\n",
    "\n",
    "Download and install data files into a `data/` directory"
   ]
  },
  {
   "cell_type": "code",
   "execution_count": 33,
   "id": "1d192fd3",
   "metadata": {},
   "outputs": [
    {
     "name": "stdout",
     "output_type": "stream",
     "text": [
      "'data' already exists.\n"
     ]
    }
   ],
   "source": [
    "import requests\n",
    "import os\n",
    "import shutil\n",
    "import zipfile\n",
    "    \n",
    "data_dir = 'data'\n",
    "\n",
    "try:\n",
    "    os.mkdir(data_dir)\n",
    "except FileExistsError:\n",
    "    print(f\"'{data_dir}' already exists.\")\n",
    "\n",
    "\n",
    "def download(monthyear):\n",
    "    file_name = f\"JC-{monthyear}-citibike-tripdata.csv.zip\"\n",
    "    \n",
    "    url = f\"https://s3.amazonaws.com/tripdata/{file_name}\"\n",
    "    local_filename = f\"{data_dir}/{file_name}\"\n",
    "    print(f\"Downloading {url} to {local_filename}\")\n",
    "    \n",
    "    ## Download to local dir\n",
    "    with requests.get(url, stream=True) as r:\n",
    "        r.raise_for_status()\n",
    "        with open(local_filename, 'wb') as f:\n",
    "            for chunk in r.iter_content(chunk_size=8192): \n",
    "                f.write(chunk)\n",
    "                \n",
    "    ## Unzip \n",
    "    with zipfile.ZipFile(local_filename, 'r') as zip_ref:\n",
    "        zip_ref.extractall(data_dir)\n",
    "    os.remove(local_filename)\n",
    "    \n",
    "    ## Clean up mess (thanks MACOSX)\n",
    "    try:\n",
    "        shutil.rmtree(f\"{data_dir}/__MACOSX\")\n",
    "    except FileNotFoundError:\n",
    "        pass"
   ]
  },
  {
   "cell_type": "code",
   "execution_count": 34,
   "id": "ca427e62",
   "metadata": {},
   "outputs": [
    {
     "name": "stdout",
     "output_type": "stream",
     "text": [
      "Downloading https://s3.amazonaws.com/tripdata/JC-201901-citibike-tripdata.csv.zip to data/JC-201901-citibike-tripdata.csv.zip\n",
      "Downloading https://s3.amazonaws.com/tripdata/JC-201902-citibike-tripdata.csv.zip to data/JC-201902-citibike-tripdata.csv.zip\n",
      "Downloading https://s3.amazonaws.com/tripdata/JC-201903-citibike-tripdata.csv.zip to data/JC-201903-citibike-tripdata.csv.zip\n",
      "Downloading https://s3.amazonaws.com/tripdata/JC-201904-citibike-tripdata.csv.zip to data/JC-201904-citibike-tripdata.csv.zip\n",
      "Downloading https://s3.amazonaws.com/tripdata/JC-201905-citibike-tripdata.csv.zip to data/JC-201905-citibike-tripdata.csv.zip\n",
      "Downloading https://s3.amazonaws.com/tripdata/JC-201906-citibike-tripdata.csv.zip to data/JC-201906-citibike-tripdata.csv.zip\n",
      "Downloading https://s3.amazonaws.com/tripdata/JC-201907-citibike-tripdata.csv.zip to data/JC-201907-citibike-tripdata.csv.zip\n",
      "Downloading https://s3.amazonaws.com/tripdata/JC-201908-citibike-tripdata.csv.zip to data/JC-201908-citibike-tripdata.csv.zip\n",
      "Downloading https://s3.amazonaws.com/tripdata/JC-201909-citibike-tripdata.csv.zip to data/JC-201909-citibike-tripdata.csv.zip\n",
      "Downloading https://s3.amazonaws.com/tripdata/JC-201910-citibike-tripdata.csv.zip to data/JC-201910-citibike-tripdata.csv.zip\n",
      "Downloading https://s3.amazonaws.com/tripdata/JC-201911-citibike-tripdata.csv.zip to data/JC-201911-citibike-tripdata.csv.zip\n",
      "Downloading https://s3.amazonaws.com/tripdata/JC-201912-citibike-tripdata.csv.zip to data/JC-201912-citibike-tripdata.csv.zip\n",
      "Downloading https://s3.amazonaws.com/tripdata/JC-202001-citibike-tripdata.csv.zip to data/JC-202001-citibike-tripdata.csv.zip\n",
      "Downloading https://s3.amazonaws.com/tripdata/JC-202002-citibike-tripdata.csv.zip to data/JC-202002-citibike-tripdata.csv.zip\n",
      "Downloading https://s3.amazonaws.com/tripdata/JC-202003-citibike-tripdata.csv.zip to data/JC-202003-citibike-tripdata.csv.zip\n",
      "Downloading https://s3.amazonaws.com/tripdata/JC-202004-citibike-tripdata.csv.zip to data/JC-202004-citibike-tripdata.csv.zip\n",
      "Downloading https://s3.amazonaws.com/tripdata/JC-202005-citibike-tripdata.csv.zip to data/JC-202005-citibike-tripdata.csv.zip\n",
      "Downloading https://s3.amazonaws.com/tripdata/JC-202006-citibike-tripdata.csv.zip to data/JC-202006-citibike-tripdata.csv.zip\n",
      "Downloading https://s3.amazonaws.com/tripdata/JC-202007-citibike-tripdata.csv.zip to data/JC-202007-citibike-tripdata.csv.zip\n",
      "Downloading https://s3.amazonaws.com/tripdata/JC-202008-citibike-tripdata.csv.zip to data/JC-202008-citibike-tripdata.csv.zip\n",
      "Downloading https://s3.amazonaws.com/tripdata/JC-202009-citibike-tripdata.csv.zip to data/JC-202009-citibike-tripdata.csv.zip\n",
      "Downloading https://s3.amazonaws.com/tripdata/JC-202010-citibike-tripdata.csv.zip to data/JC-202010-citibike-tripdata.csv.zip\n",
      "Downloading https://s3.amazonaws.com/tripdata/JC-202011-citibike-tripdata.csv.zip to data/JC-202011-citibike-tripdata.csv.zip\n",
      "Downloading https://s3.amazonaws.com/tripdata/JC-202012-citibike-tripdata.csv.zip to data/JC-202012-citibike-tripdata.csv.zip\n",
      "Downloading https://s3.amazonaws.com/tripdata/JC-202101-citibike-tripdata.csv.zip to data/JC-202101-citibike-tripdata.csv.zip\n",
      "Downloading https://s3.amazonaws.com/tripdata/JC-202102-citibike-tripdata.csv.zip to data/JC-202102-citibike-tripdata.csv.zip\n",
      "Downloading https://s3.amazonaws.com/tripdata/JC-202103-citibike-tripdata.csv.zip to data/JC-202103-citibike-tripdata.csv.zip\n",
      "Downloading https://s3.amazonaws.com/tripdata/JC-202104-citibike-tripdata.csv.zip to data/JC-202104-citibike-tripdata.csv.zip\n",
      "Downloading https://s3.amazonaws.com/tripdata/JC-202105-citibike-tripdata.csv.zip to data/JC-202105-citibike-tripdata.csv.zip\n",
      "Downloading https://s3.amazonaws.com/tripdata/JC-202106-citibike-tripdata.csv.zip to data/JC-202106-citibike-tripdata.csv.zip\n",
      "Downloading https://s3.amazonaws.com/tripdata/JC-202107-citibike-tripdata.csv.zip to data/JC-202107-citibike-tripdata.csv.zip\n",
      "Downloading https://s3.amazonaws.com/tripdata/JC-202108-citibike-tripdata.csv.zip to data/JC-202108-citibike-tripdata.csv.zip\n",
      "404 Client Error: Not Found for url: https://s3.amazonaws.com/tripdata/JC-202108-citibike-tripdata.csv.zip\n",
      "Downloading https://s3.amazonaws.com/tripdata/JC-202109-citibike-tripdata.csv.zip to data/JC-202109-citibike-tripdata.csv.zip\n",
      "404 Client Error: Not Found for url: https://s3.amazonaws.com/tripdata/JC-202109-citibike-tripdata.csv.zip\n",
      "Downloading https://s3.amazonaws.com/tripdata/JC-202110-citibike-tripdata.csv.zip to data/JC-202110-citibike-tripdata.csv.zip\n",
      "404 Client Error: Not Found for url: https://s3.amazonaws.com/tripdata/JC-202110-citibike-tripdata.csv.zip\n",
      "Downloading https://s3.amazonaws.com/tripdata/JC-202111-citibike-tripdata.csv.zip to data/JC-202111-citibike-tripdata.csv.zip\n",
      "404 Client Error: Not Found for url: https://s3.amazonaws.com/tripdata/JC-202111-citibike-tripdata.csv.zip\n",
      "Downloading https://s3.amazonaws.com/tripdata/JC-202112-citibike-tripdata.csv.zip to data/JC-202112-citibike-tripdata.csv.zip\n",
      "404 Client Error: Not Found for url: https://s3.amazonaws.com/tripdata/JC-202112-citibike-tripdata.csv.zip\n"
     ]
    }
   ],
   "source": [
    "## Download 2019-2021\n",
    "\n",
    "years = range(2019,2022)\n",
    "\n",
    "for year in years:\n",
    "    for month in range(1,13):\n",
    "        month_pad = str(month).zfill(2)\n",
    "        \n",
    "        try:\n",
    "            download(f\"{year}{month_pad}\")\n",
    "        except requests.HTTPError as http_error:\n",
    "            print(str(http_error))"
   ]
  },
  {
   "cell_type": "code",
   "execution_count": null,
   "id": "fb9c34f4",
   "metadata": {},
   "outputs": [],
   "source": []
  }
 ],
 "metadata": {
  "kernelspec": {
   "display_name": "Python 3 (ipykernel)",
   "language": "python",
   "name": "python3"
  },
  "language_info": {
   "codemirror_mode": {
    "name": "ipython",
    "version": 3
   },
   "file_extension": ".py",
   "mimetype": "text/x-python",
   "name": "python",
   "nbconvert_exporter": "python",
   "pygments_lexer": "ipython3",
   "version": "3.9.5"
  }
 },
 "nbformat": 4,
 "nbformat_minor": 5
}
