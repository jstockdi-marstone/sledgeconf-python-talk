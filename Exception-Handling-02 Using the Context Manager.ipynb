{
 "cells": [
  {
   "cell_type": "markdown",
   "id": "e0a548c2",
   "metadata": {},
   "source": [
    "# Context Manager\n",
    "\n",
    "In this example, we will create a database, use try..except..finally to manage the resources.  Then create a class to manage the context and remove the finally block.\n"
   ]
  },
  {
   "cell_type": "code",
   "execution_count": 9,
   "id": "e4a82dd3",
   "metadata": {},
   "outputs": [
    {
     "name": "stdout",
     "output_type": "stream",
     "text": [
      "Thanks Sledge for a great conference.\n",
      "Contacts table created.  Ain't Sledge Grand?\n"
     ]
    }
   ],
   "source": [
    "import os\n",
    "import sqlite3\n",
    "\n",
    "\n",
    "\n",
    "## Remove the database if it is still there.\n",
    "database = \"contacts.db\"\n",
    "\n",
    "try:\n",
    "    os.remove(database)\n",
    "except FileNotFoundError:\n",
    "    print(\"Thanks Sledge for a great conference.\")\n",
    "\n",
    "    \n",
    "## Create the database using the typical try..catch..finally\n",
    "con = sqlite3.connect(database)\n",
    "\n",
    "create_sql = \"\"\"\n",
    "CREATE TABLE contacts (\n",
    "    contact_id INTEGER PRIMARY KEY,\n",
    "    first_name TEXT NOT NULL,\n",
    "    last_name TEXT NOT NULL,\n",
    "    email TEXT NOT NULL UNIQUE,\n",
    "    phone TEXT NOT NULL UNIQUE\n",
    ")\n",
    "\n",
    "\"\"\"\n",
    "\n",
    "try:\n",
    "    cur = con.cursor()\n",
    "\n",
    "    cur.execute(create_sql)\n",
    "    cur.execute(\"INSERT INTO contacts VALUES (1062008,'Chris','Froome','chris@froome.com','6073418190')\")\n",
    "\n",
    "    con.commit()\n",
    "    \n",
    "    print(\"Contacts table created.  Ain't Sledge Grand?\")\n",
    "\n",
    "except sqlite3.Error as e:\n",
    "    print(f\"It hit the fan... {e.args[0]}\")\n",
    "finally:\n",
    "    con.close()\n",
    "\n"
   ]
  },
  {
   "cell_type": "code",
   "execution_count": 22,
   "id": "5378860d",
   "metadata": {},
   "outputs": [
    {
     "name": "stdout",
     "output_type": "stream",
     "text": [
      "Chris\n"
     ]
    }
   ],
   "source": [
    "## Using the context manager decorator to manage the connection (closing)\n",
    "class ContactsDB():\n",
    "    def __init__(self, file='contacts.db'):\n",
    "        self.file=file\n",
    "    def __enter__(self):\n",
    "        self.conn = sqlite3.connect(self.file)\n",
    "        self.conn.row_factory = sqlite3.Row\n",
    "        return self.conn.cursor()\n",
    "    def __exit__(self, type, value, traceback):\n",
    "        self.conn.commit()\n",
    "        self.conn.close()\n",
    "\n",
    "with ContactsDB() as cursor:\n",
    "    results = cursor.execute('select first_name from contacts where last_name = ?', (\"Froome\",)).fetchall()\n",
    "    print(results[0][0])"
   ]
  },
  {
   "cell_type": "code",
   "execution_count": 29,
   "id": "720b6ace",
   "metadata": {},
   "outputs": [
    {
     "name": "stdout",
     "output_type": "stream",
     "text": [
      "Chris\n",
      "Awww yea...\n",
      "Later...\n"
     ]
    }
   ],
   "source": [
    "## Using the context manager decorator\n",
    "\n",
    "from contextlib import contextmanager\n",
    "\n",
    "@contextmanager\n",
    "def db_transaction ():\n",
    "    connection = sqlite3.connect(\"contacts.db\")\n",
    "    cursor = connection.cursor()\n",
    "    try:\n",
    "        yield cursor\n",
    "    except:\n",
    "        print(\"Oh snap...\")\n",
    "        connection.rollback()\n",
    "        raise\n",
    "    else:\n",
    "        print(\"Awww yea...\")\n",
    "        connection.commit()\n",
    "    finally:\n",
    "        print(\"Later...\")\n",
    "        connection.close()"
   ]
  },
  {
   "cell_type": "code",
   "execution_count": 30,
   "id": "19b4e23f",
   "metadata": {},
   "outputs": [
    {
     "name": "stdout",
     "output_type": "stream",
     "text": [
      "Chris\n",
      "Awww yea...\n",
      "Later...\n"
     ]
    }
   ],
   "source": [
    "## Success Usage\n",
    "with db_transaction() as cursor:\n",
    "    results = cursor.execute('select first_name from contacts where last_name = ?', (\"Froome\",)).fetchall()\n",
    "    print(results[0][0])"
   ]
  },
  {
   "cell_type": "code",
   "execution_count": 32,
   "id": "276f26fc",
   "metadata": {},
   "outputs": [
    {
     "name": "stdout",
     "output_type": "stream",
     "text": [
      "Oh snap...\n",
      "Later...\n"
     ]
    },
    {
     "ename": "Exception",
     "evalue": "Oh no....",
     "output_type": "error",
     "traceback": [
      "\u001b[0;31m---------------------------------------------------------------------------\u001b[0m",
      "\u001b[0;31mException\u001b[0m                                 Traceback (most recent call last)",
      "\u001b[0;32m/tmp/ipykernel_503/2476740091.py\u001b[0m in \u001b[0;36m<module>\u001b[0;34m\u001b[0m\n\u001b[1;32m      3\u001b[0m     \u001b[0mresults\u001b[0m \u001b[0;34m=\u001b[0m \u001b[0mcursor\u001b[0m\u001b[0;34m.\u001b[0m\u001b[0mexecute\u001b[0m\u001b[0;34m(\u001b[0m\u001b[0;34m'select first_name from contacts where last_name = ?'\u001b[0m\u001b[0;34m,\u001b[0m \u001b[0;34m(\u001b[0m\u001b[0;34m\"Froome\"\u001b[0m\u001b[0;34m,\u001b[0m\u001b[0;34m)\u001b[0m\u001b[0;34m)\u001b[0m\u001b[0;34m.\u001b[0m\u001b[0mfetchall\u001b[0m\u001b[0;34m(\u001b[0m\u001b[0;34m)\u001b[0m\u001b[0;34m\u001b[0m\u001b[0;34m\u001b[0m\u001b[0m\n\u001b[1;32m      4\u001b[0m \u001b[0;34m\u001b[0m\u001b[0m\n\u001b[0;32m----> 5\u001b[0;31m     \u001b[0;32mraise\u001b[0m \u001b[0mException\u001b[0m\u001b[0;34m(\u001b[0m\u001b[0;34m\"Oh no....\"\u001b[0m\u001b[0;34m)\u001b[0m\u001b[0;34m\u001b[0m\u001b[0;34m\u001b[0m\u001b[0m\n\u001b[0m",
      "\u001b[0;31mException\u001b[0m: Oh no...."
     ]
    }
   ],
   "source": [
    "## Exception Usage\n",
    "with db_transaction() as cursor:\n",
    "    results = cursor.execute('select first_name from contacts where last_name = ?', (\"Froome\",)).fetchall()\n",
    "    \n",
    "    raise Exception(\"Oh no....\")"
   ]
  },
  {
   "cell_type": "markdown",
   "id": "89d293b7",
   "metadata": {},
   "source": []
  }
 ],
 "metadata": {
  "kernelspec": {
   "display_name": "Python 3 (ipykernel)",
   "language": "python",
   "name": "python3"
  },
  "language_info": {
   "codemirror_mode": {
    "name": "ipython",
    "version": 3
   },
   "file_extension": ".py",
   "mimetype": "text/x-python",
   "name": "python",
   "nbconvert_exporter": "python",
   "pygments_lexer": "ipython3",
   "version": "3.9.5"
  }
 },
 "nbformat": 4,
 "nbformat_minor": 5
}
