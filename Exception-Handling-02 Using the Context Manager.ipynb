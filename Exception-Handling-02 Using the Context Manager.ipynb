{
 "cells": [
  {
   "cell_type": "markdown",
   "id": "f0c07e92",
   "metadata": {},
   "source": [
    "# Context Manager\n",
    "\n",
    "In this example, we will create a database, use try..except..finally to manage the resources.  Then create a class to manage the context and remove the finally block.\n"
   ]
  },
  {
   "cell_type": "code",
   "execution_count": 9,
   "id": "8c438081",
   "metadata": {},
   "outputs": [
    {
     "name": "stdout",
     "output_type": "stream",
     "text": [
      "Thanks Sledge for a great conference.\n",
      "Contacts table created.  Ain't Sledge Grand?\n"
     ]
    }
   ],
   "source": [
    "import os\n",
    "import sqlite3\n",
    "\n",
    "\n",
    "\n",
    "## Remove the database if it is still there.\n",
    "database = \"contacts.db\"\n",
    "\n",
    "try:\n",
    "    os.remove(database)\n",
    "except FileNotFoundError:\n",
    "    print(\"Thanks Sledge for a great conference.\")\n",
    "\n",
    "    \n",
    "## Create the database using the typical try..catch..finally\n",
    "con = sqlite3.connect(database)\n",
    "\n",
    "create_sql = \"\"\"\n",
    "CREATE TABLE contacts (\n",
    "    contact_id INTEGER PRIMARY KEY,\n",
    "    first_name TEXT NOT NULL,\n",
    "    last_name TEXT NOT NULL,\n",
    "    email TEXT NOT NULL UNIQUE,\n",
    "    phone TEXT NOT NULL UNIQUE\n",
    ")\n",
    "\n",
    "\"\"\"\n",
    "\n",
    "try:\n",
    "    cur = con.cursor()\n",
    "\n",
    "    cur.execute(create_sql)\n",
    "    cur.execute(\"INSERT INTO contacts VALUES (1062008,'Chris','Froome','chris@froome.com','6073418190')\")\n",
    "\n",
    "    con.commit()\n",
    "    \n",
    "    print(\"Contacts table created.  Ain't Sledge Grand?\")\n",
    "\n",
    "except sqlite3.Error as e:\n",
    "    print(f\"It hit the fan... {e.args[0]}\")\n",
    "finally:\n",
    "    con.close()\n",
    "\n"
   ]
  },
  {
   "cell_type": "code",
   "execution_count": 56,
   "id": "efb390cc",
   "metadata": {},
   "outputs": [],
   "source": [
    "## Using the context manager decorator to manage the connection (closing)\n",
    "class ContactsDB():\n",
    "    def __init__(self, file='contacts.db'):\n",
    "        self.file=file\n",
    "\n",
    "    def __enter__(self):\n",
    "        self.conn = sqlite3.connect(self.file)\n",
    "        self.conn.row_factory = sqlite3.Row\n",
    "        return self.conn.cursor()\n",
    "    \n",
    "    def __exit__(self, exc_type, exc_value, exc_tb):\n",
    "        if isinstance(exc_value, Exception):\n",
    "            self.conn.rollback()\n",
    "            print(f\"Rolled back.\")\n",
    "        else:\n",
    "            self.conn.commit()\n",
    "            print(f\"Committed.\")\n",
    "            \n",
    "        self.conn.close()\n",
    "        \n",
    "        print(\"Connection closed.\")"
   ]
  },
  {
   "cell_type": "code",
   "execution_count": 57,
   "id": "34fcfbee",
   "metadata": {},
   "outputs": [
    {
     "name": "stdout",
     "output_type": "stream",
     "text": [
      "Chris\n",
      "Committed.\n",
      "Connection closed.\n"
     ]
    }
   ],
   "source": [
    "## Success\n",
    "with ContactsDB() as cursor:\n",
    "    results = cursor.execute('select first_name from contacts where last_name = ?', (\"Froome\",)).fetchall()\n",
    "    print(results[0][0])"
   ]
  },
  {
   "cell_type": "code",
   "execution_count": 58,
   "id": "5bef728d",
   "metadata": {},
   "outputs": [
    {
     "name": "stdout",
     "output_type": "stream",
     "text": [
      "Rolled back.\n",
      "Connection closed.\n"
     ]
    },
    {
     "ename": "Exception",
     "evalue": "Oh no....",
     "output_type": "error",
     "traceback": [
      "\u001b[0;31m---------------------------------------------------------------------------\u001b[0m",
      "\u001b[0;31mException\u001b[0m                                 Traceback (most recent call last)",
      "\u001b[0;32m/tmp/ipykernel_503/3313654925.py\u001b[0m in \u001b[0;36m<module>\u001b[0;34m\u001b[0m\n\u001b[1;32m      3\u001b[0m     \u001b[0mresults\u001b[0m \u001b[0;34m=\u001b[0m \u001b[0mcursor\u001b[0m\u001b[0;34m.\u001b[0m\u001b[0mexecute\u001b[0m\u001b[0;34m(\u001b[0m\u001b[0;34m'select first_name from contacts where last_name = ?'\u001b[0m\u001b[0;34m,\u001b[0m \u001b[0;34m(\u001b[0m\u001b[0;34m\"Froome\"\u001b[0m\u001b[0;34m,\u001b[0m\u001b[0;34m)\u001b[0m\u001b[0;34m)\u001b[0m\u001b[0;34m.\u001b[0m\u001b[0mfetchall\u001b[0m\u001b[0;34m(\u001b[0m\u001b[0;34m)\u001b[0m\u001b[0;34m\u001b[0m\u001b[0;34m\u001b[0m\u001b[0m\n\u001b[1;32m      4\u001b[0m \u001b[0;34m\u001b[0m\u001b[0m\n\u001b[0;32m----> 5\u001b[0;31m     \u001b[0;32mraise\u001b[0m \u001b[0mException\u001b[0m\u001b[0;34m(\u001b[0m\u001b[0;34m\"Oh no....\"\u001b[0m\u001b[0;34m)\u001b[0m\u001b[0;34m\u001b[0m\u001b[0;34m\u001b[0m\u001b[0m\n\u001b[0m\u001b[1;32m      6\u001b[0m \u001b[0;34m\u001b[0m\u001b[0m\n",
      "\u001b[0;31mException\u001b[0m: Oh no...."
     ]
    }
   ],
   "source": [
    "## Failure\n",
    "with ContactsDB() as cursor:\n",
    "    results = cursor.execute('select first_name from contacts where last_name = ?', (\"Froome\",)).fetchall()\n",
    "    \n",
    "    raise Exception(\"Oh no....\")\n",
    "    "
   ]
  },
  {
   "cell_type": "code",
   "execution_count": 47,
   "id": "941df8d7",
   "metadata": {},
   "outputs": [],
   "source": [
    "## Using the context manager decorator\n",
    "\n",
    "from contextlib import contextmanager\n",
    "\n",
    "@contextmanager\n",
    "def db_transaction ():\n",
    "    connection = sqlite3.connect(\"contacts.db\")\n",
    "    cursor = connection.cursor()\n",
    "    try:\n",
    "        yield cursor\n",
    "    except:\n",
    "        connection.rollback()\n",
    "        print(\"Rolled back.\")\n",
    "        \n",
    "        raise\n",
    "    else:\n",
    "        connection.commit()\n",
    "        print(\"Committed.\")\n",
    "        \n",
    "    finally:\n",
    "        connection.close()\n",
    "        print(\"Connection Closed.\")\n",
    "        "
   ]
  },
  {
   "cell_type": "code",
   "execution_count": 48,
   "id": "8f0aefcf",
   "metadata": {},
   "outputs": [
    {
     "name": "stdout",
     "output_type": "stream",
     "text": [
      "Chris\n",
      "Committed.\n",
      "Connection Closed.\n"
     ]
    }
   ],
   "source": [
    "## Success Usage\n",
    "with db_transaction() as cursor:\n",
    "    results = cursor.execute('select first_name from contacts where last_name = ?', (\"Froome\",)).fetchall()\n",
    "    print(results[0][0])"
   ]
  },
  {
   "cell_type": "code",
   "execution_count": 49,
   "id": "807e5038",
   "metadata": {},
   "outputs": [
    {
     "name": "stdout",
     "output_type": "stream",
     "text": [
      "Rolled back.\n",
      "Connection Closed.\n"
     ]
    },
    {
     "ename": "Exception",
     "evalue": "Oh no....",
     "output_type": "error",
     "traceback": [
      "\u001b[0;31m---------------------------------------------------------------------------\u001b[0m",
      "\u001b[0;31mException\u001b[0m                                 Traceback (most recent call last)",
      "\u001b[0;32m/tmp/ipykernel_503/2476740091.py\u001b[0m in \u001b[0;36m<module>\u001b[0;34m\u001b[0m\n\u001b[1;32m      3\u001b[0m     \u001b[0mresults\u001b[0m \u001b[0;34m=\u001b[0m \u001b[0mcursor\u001b[0m\u001b[0;34m.\u001b[0m\u001b[0mexecute\u001b[0m\u001b[0;34m(\u001b[0m\u001b[0;34m'select first_name from contacts where last_name = ?'\u001b[0m\u001b[0;34m,\u001b[0m \u001b[0;34m(\u001b[0m\u001b[0;34m\"Froome\"\u001b[0m\u001b[0;34m,\u001b[0m\u001b[0;34m)\u001b[0m\u001b[0;34m)\u001b[0m\u001b[0;34m.\u001b[0m\u001b[0mfetchall\u001b[0m\u001b[0;34m(\u001b[0m\u001b[0;34m)\u001b[0m\u001b[0;34m\u001b[0m\u001b[0;34m\u001b[0m\u001b[0m\n\u001b[1;32m      4\u001b[0m \u001b[0;34m\u001b[0m\u001b[0m\n\u001b[0;32m----> 5\u001b[0;31m     \u001b[0;32mraise\u001b[0m \u001b[0mException\u001b[0m\u001b[0;34m(\u001b[0m\u001b[0;34m\"Oh no....\"\u001b[0m\u001b[0;34m)\u001b[0m\u001b[0;34m\u001b[0m\u001b[0;34m\u001b[0m\u001b[0m\n\u001b[0m",
      "\u001b[0;31mException\u001b[0m: Oh no...."
     ]
    }
   ],
   "source": [
    "## Exception Usage\n",
    "with db_transaction() as cursor:\n",
    "    results = cursor.execute('select first_name from contacts where last_name = ?', (\"Froome\",)).fetchall()\n",
    "    \n",
    "    raise Exception(\"Oh no....\")"
   ]
  },
  {
   "cell_type": "code",
   "execution_count": 50,
   "id": "778ecdd4",
   "metadata": {},
   "outputs": [
    {
     "name": "stdout",
     "output_type": "stream",
     "text": [
      "Committed.\n",
      "Connection Closed.\n",
      "\n",
      "Reading the file...\n",
      "Chris\n",
      "\n"
     ]
    }
   ],
   "source": [
    "import csv\n",
    "\n",
    "file_path = '/tmp/first_names.csv'\n",
    "\n",
    "with db_transaction() as read_cursor, open(file_path, 'w', newline='') as csvfile:\n",
    "    results = read_cursor.execute('select first_name from contacts where last_name = ?', (\"Froome\",)).fetchall()\n",
    "    \n",
    "    writer = csv.writer(csvfile)\n",
    "    for result in results:\n",
    "        fname = result[0]\n",
    "        writer.writerow([fname])\n",
    "        \n",
    "\n",
    "print(\"\\nReading the file...\")\n",
    "with open(file_path, \"r\") as reader:\n",
    "    for line in reader:\n",
    "        print(line)"
   ]
  },
  {
   "cell_type": "markdown",
   "id": "d8bfe04a",
   "metadata": {},
   "source": [
    "## References\n",
    "\n",
    "* RealPython (Great Article):  https://realpython.com/python-with-statement/\n"
   ]
  },
  {
   "cell_type": "code",
   "execution_count": null,
   "id": "3c912872",
   "metadata": {},
   "outputs": [],
   "source": []
  }
 ],
 "metadata": {
  "kernelspec": {
   "display_name": "Python 3 (ipykernel)",
   "language": "python",
   "name": "python3"
  },
  "language_info": {
   "codemirror_mode": {
    "name": "ipython",
    "version": 3
   },
   "file_extension": ".py",
   "mimetype": "text/x-python",
   "name": "python",
   "nbconvert_exporter": "python",
   "pygments_lexer": "ipython3",
   "version": "3.9.5"
  }
 },
 "nbformat": 4,
 "nbformat_minor": 5
}
