{
 "cells": [
  {
   "cell_type": "markdown",
   "id": "a070eeba",
   "metadata": {},
   "source": [
    "# Context Manager\n",
    "\n",
    "In this example, we will create a database, use try..except..finally to manage the resources.  Then create a class to manage the context and remove the finally block.\n"
   ]
  },
  {
   "cell_type": "code",
   "execution_count": 1,
   "id": "4d081446",
   "metadata": {},
   "outputs": [
    {
     "name": "stdout",
     "output_type": "stream",
     "text": [
      "Contacts table created.  Ain't Sledge Grand?\n"
     ]
    }
   ],
   "source": [
    "import os\n",
    "import sqlite3\n",
    "\n",
    "\n",
    "## Remove the database if it is still there.\n",
    "database = \"contacts.db\"\n",
    "\n",
    "try:\n",
    "    os.remove(database)\n",
    "except FileNotFoundError:\n",
    "    print(\"Thanks Sledge for a great conference.\")\n",
    "\n",
    "    \n",
    "## Create the database using the typical try..catch..finally\n",
    "con = sqlite3.connect(database)\n",
    "\n",
    "create_sql = \"\"\"\n",
    "CREATE TABLE contacts (\n",
    "    contact_id INTEGER PRIMARY KEY,\n",
    "    first_name TEXT NOT NULL,\n",
    "    last_name TEXT NOT NULL,\n",
    "    email TEXT NOT NULL UNIQUE,\n",
    "    phone TEXT NOT NULL UNIQUE\n",
    ")\n",
    "\n",
    "\"\"\"\n",
    "\n",
    "try:\n",
    "    cur = con.cursor()\n",
    "\n",
    "    cur.execute(create_sql)\n",
    "    cur.execute(\"INSERT INTO contacts VALUES (1062008,'Chris','Froome','chris@froome.com','6073418190')\")\n",
    "\n",
    "    con.commit()\n",
    "    \n",
    "    print(\"Contacts table created.  Ain't Sledge Grand?\")\n",
    "\n",
    "except sqlite3.Error as e:\n",
    "    print(f\"It hit the fan... {e.args[0]}\")\n",
    "finally:\n",
    "    con.close()"
   ]
  },
  {
   "cell_type": "code",
   "execution_count": 2,
   "id": "fdfc870e",
   "metadata": {},
   "outputs": [],
   "source": [
    "## Implementing context manager\n",
    "class ContactsDB():\n",
    "    def __init__(self, file='contacts.db'):\n",
    "        self.file=file\n",
    "\n",
    "    def __enter__(self):\n",
    "        self.conn = sqlite3.connect(self.file)\n",
    "        self.conn.row_factory = sqlite3.Row\n",
    "        return self.conn.cursor()\n",
    "    \n",
    "    def __exit__(self, exc_type, exc_value, exc_tb):\n",
    "        if isinstance(exc_value, Exception):\n",
    "            self.conn.rollback()\n",
    "            print(f\"Rolled back.\")\n",
    "        else:\n",
    "            self.conn.commit()\n",
    "            print(f\"Committed.\")\n",
    "            \n",
    "        self.conn.close()\n",
    "        \n",
    "        print(\"Connection closed.\")"
   ]
  },
  {
   "cell_type": "code",
   "execution_count": 3,
   "id": "781561e8",
   "metadata": {},
   "outputs": [
    {
     "name": "stdout",
     "output_type": "stream",
     "text": [
      "Chris\n",
      "Committed.\n",
      "Connection closed.\n"
     ]
    }
   ],
   "source": [
    "## Success\n",
    "with ContactsDB() as cursor:\n",
    "    results = cursor.execute('select first_name from contacts where last_name = ?', (\"Froome\",)).fetchall()\n",
    "    print(results[0][0])"
   ]
  },
  {
   "cell_type": "code",
   "execution_count": 4,
   "id": "4e397d93",
   "metadata": {},
   "outputs": [
    {
     "name": "stdout",
     "output_type": "stream",
     "text": [
      "Rolled back.\n",
      "Connection closed.\n"
     ]
    },
    {
     "ename": "Exception",
     "evalue": "Oh no....",
     "output_type": "error",
     "traceback": [
      "\u001b[0;31m---------------------------------------------------------------------------\u001b[0m",
      "\u001b[0;31mException\u001b[0m                                 Traceback (most recent call last)",
      "\u001b[0;32m/tmp/ipykernel_17727/3313654925.py\u001b[0m in \u001b[0;36m<module>\u001b[0;34m\u001b[0m\n\u001b[1;32m      3\u001b[0m     \u001b[0mresults\u001b[0m \u001b[0;34m=\u001b[0m \u001b[0mcursor\u001b[0m\u001b[0;34m.\u001b[0m\u001b[0mexecute\u001b[0m\u001b[0;34m(\u001b[0m\u001b[0;34m'select first_name from contacts where last_name = ?'\u001b[0m\u001b[0;34m,\u001b[0m \u001b[0;34m(\u001b[0m\u001b[0;34m\"Froome\"\u001b[0m\u001b[0;34m,\u001b[0m\u001b[0;34m)\u001b[0m\u001b[0;34m)\u001b[0m\u001b[0;34m.\u001b[0m\u001b[0mfetchall\u001b[0m\u001b[0;34m(\u001b[0m\u001b[0;34m)\u001b[0m\u001b[0;34m\u001b[0m\u001b[0;34m\u001b[0m\u001b[0m\n\u001b[1;32m      4\u001b[0m \u001b[0;34m\u001b[0m\u001b[0m\n\u001b[0;32m----> 5\u001b[0;31m     \u001b[0;32mraise\u001b[0m \u001b[0mException\u001b[0m\u001b[0;34m(\u001b[0m\u001b[0;34m\"Oh no....\"\u001b[0m\u001b[0;34m)\u001b[0m\u001b[0;34m\u001b[0m\u001b[0;34m\u001b[0m\u001b[0m\n\u001b[0m\u001b[1;32m      6\u001b[0m \u001b[0;34m\u001b[0m\u001b[0m\n",
      "\u001b[0;31mException\u001b[0m: Oh no...."
     ]
    }
   ],
   "source": [
    "## Failure\n",
    "with ContactsDB() as cursor:\n",
    "    results = cursor.execute('select first_name from contacts where last_name = ?', (\"Froome\",)).fetchall()\n",
    "    \n",
    "    raise Exception(\"Oh no....\")\n",
    "    "
   ]
  },
  {
   "cell_type": "code",
   "execution_count": 5,
   "id": "9cf9b41c",
   "metadata": {},
   "outputs": [],
   "source": [
    "## Function based context manager decorator\n",
    "\n",
    "from contextlib import contextmanager\n",
    "\n",
    "@contextmanager\n",
    "def db_transaction():\n",
    "    connection = sqlite3.connect(\"contacts.db\")\n",
    "    cursor = connection.cursor()\n",
    "    try:\n",
    "        yield cursor\n",
    "    except:\n",
    "        connection.rollback()\n",
    "        print(\"Rolled back.\")\n",
    "        \n",
    "        raise\n",
    "    else:\n",
    "        connection.commit()\n",
    "        print(\"Committed.\")\n",
    "        \n",
    "    finally:\n",
    "        connection.close()\n",
    "        print(\"Connection Closed.\")\n",
    "        \n",
    "        \n",
    "## Really cool, easy to unit test exception handling"
   ]
  },
  {
   "cell_type": "code",
   "execution_count": 6,
   "id": "7fd4c39b",
   "metadata": {},
   "outputs": [
    {
     "name": "stdout",
     "output_type": "stream",
     "text": [
      "Chris\n",
      "Committed.\n",
      "Connection Closed.\n"
     ]
    }
   ],
   "source": [
    "## Success Usage, again easy to unit test\n",
    "with db_transaction() as cursor:\n",
    "    results = cursor.execute('select first_name from contacts where last_name = ?', (\"Froome\",)).fetchall()\n",
    "    print(results[0][0])"
   ]
  },
  {
   "cell_type": "code",
   "execution_count": 7,
   "id": "7b3732b7",
   "metadata": {},
   "outputs": [
    {
     "name": "stdout",
     "output_type": "stream",
     "text": [
      "Rolled back.\n",
      "Connection Closed.\n"
     ]
    },
    {
     "ename": "Exception",
     "evalue": "Oh no....",
     "output_type": "error",
     "traceback": [
      "\u001b[0;31m---------------------------------------------------------------------------\u001b[0m",
      "\u001b[0;31mException\u001b[0m                                 Traceback (most recent call last)",
      "\u001b[0;32m/tmp/ipykernel_17727/2476740091.py\u001b[0m in \u001b[0;36m<module>\u001b[0;34m\u001b[0m\n\u001b[1;32m      3\u001b[0m     \u001b[0mresults\u001b[0m \u001b[0;34m=\u001b[0m \u001b[0mcursor\u001b[0m\u001b[0;34m.\u001b[0m\u001b[0mexecute\u001b[0m\u001b[0;34m(\u001b[0m\u001b[0;34m'select first_name from contacts where last_name = ?'\u001b[0m\u001b[0;34m,\u001b[0m \u001b[0;34m(\u001b[0m\u001b[0;34m\"Froome\"\u001b[0m\u001b[0;34m,\u001b[0m\u001b[0;34m)\u001b[0m\u001b[0;34m)\u001b[0m\u001b[0;34m.\u001b[0m\u001b[0mfetchall\u001b[0m\u001b[0;34m(\u001b[0m\u001b[0;34m)\u001b[0m\u001b[0;34m\u001b[0m\u001b[0;34m\u001b[0m\u001b[0m\n\u001b[1;32m      4\u001b[0m \u001b[0;34m\u001b[0m\u001b[0m\n\u001b[0;32m----> 5\u001b[0;31m     \u001b[0;32mraise\u001b[0m \u001b[0mException\u001b[0m\u001b[0;34m(\u001b[0m\u001b[0;34m\"Oh no....\"\u001b[0m\u001b[0;34m)\u001b[0m\u001b[0;34m\u001b[0m\u001b[0;34m\u001b[0m\u001b[0m\n\u001b[0m",
      "\u001b[0;31mException\u001b[0m: Oh no...."
     ]
    }
   ],
   "source": [
    "## Exception Usage\n",
    "with db_transaction() as cursor:\n",
    "    results = cursor.execute('select first_name from contacts where last_name = ?', (\"Froome\",)).fetchall()\n",
    "    \n",
    "    raise Exception(\"Oh no....\")"
   ]
  },
  {
   "cell_type": "code",
   "execution_count": 8,
   "id": "cb46ce48",
   "metadata": {},
   "outputs": [
    {
     "name": "stdout",
     "output_type": "stream",
     "text": [
      "Committed.\n",
      "Connection Closed.\n",
      "\n",
      "Reading the file...\n",
      "Chris\n",
      "\n"
     ]
    }
   ],
   "source": [
    "## Multiple resources, single with clause\n",
    "\n",
    "import csv\n",
    "\n",
    "file_path = '/tmp/first_names.csv'\n",
    "\n",
    "with db_transaction() as read_cursor, open(file_path, 'w', newline='') as csvfile:\n",
    "    results = read_cursor.execute('select first_name from contacts where last_name = ?', (\"Froome\",)).fetchall()\n",
    "    \n",
    "    writer = csv.writer(csvfile)\n",
    "    for result in results:\n",
    "        fname = result[0]\n",
    "        writer.writerow([fname])\n",
    "        \n",
    "\n",
    "print(\"\\nReading the file...\")\n",
    "with open(file_path, \"r\") as reader:\n",
    "    for line in reader:\n",
    "        print(line)"
   ]
  },
  {
   "cell_type": "markdown",
   "id": "bfe3e95d",
   "metadata": {},
   "source": [
    "## Useful ideas\n",
    "* Redirecting stdout\n",
    "\n",
    "\n",
    "## References\n",
    "\n",
    "* RealPython (Great Article):  https://realpython.com/python-with-statement/\n"
   ]
  },
  {
   "cell_type": "markdown",
   "id": "98e4e484",
   "metadata": {},
   "source": [
    "## Redirecting StdOut\n",
    "\n",
    "```\n",
    "import sys\n",
    "\n",
    "class RedirectedStdout:\n",
    "    def __init__(self, new_output):\n",
    "        self.new_output = new_output\n",
    "\n",
    "    def __enter__(self):\n",
    "        self.saved_output = sys.stdout\n",
    "        sys.stdout = self.new_output\n",
    "\n",
    "    def __exit__(self, exc_type, exc_val, exc_tb):\n",
    "        sys.stdout = self.saved_output\n",
    "```"
   ]
  },
  {
   "cell_type": "markdown",
   "id": "02ae083b",
   "metadata": {},
   "source": [
    "## Measuring Execution Time\n",
    "\n",
    "```\n",
    "from time import perf_counter\n",
    "\n",
    "class Timer:\n",
    "    def __enter__(self):\n",
    "        self.start = perf_counter()\n",
    "        self.end = 0.0\n",
    "        return lambda: self.end - self.start\n",
    "\n",
    "    def __exit__(self, *args):\n",
    "        self.end = perf_counter()\n",
    "```"
   ]
  },
  {
   "cell_type": "markdown",
   "id": "b6844b70",
   "metadata": {},
   "source": [
    "## Mocking Time\n",
    "\n",
    "```\n",
    ">>> from contextlib import contextmanager\n",
    ">>> from time import time\n",
    "\n",
    ">>> @contextmanager\n",
    "... def mock_time():\n",
    "...     global time\n",
    "...     saved_time = time\n",
    "...     time = lambda: 42\n",
    "...     yield\n",
    "...     time = saved_time\n",
    "...\n",
    "\n",
    ">>> with mock_time():\n",
    "...     print(f\"Mocked time: {time()}\")\n",
    "```"
   ]
  },
  {
   "cell_type": "code",
   "execution_count": 9,
   "id": "db322d07",
   "metadata": {},
   "outputs": [],
   "source": [
    "import requests\n",
    "from unittest import mock\n",
    "from unittest.mock import Mock\n",
    "\n",
    "# Use with to mock requests\n",
    "r = Mock()\n",
    "r.text = '127.0.0.1'\n",
    "with mock.patch('requests.get', return_value=r):\n",
    "    resp = requests.get(\"http://checkip.amazonaws.com/\")\n",
    "    assert \"127.0.0.1\" == resp.text"
   ]
  },
  {
   "cell_type": "code",
   "execution_count": 10,
   "id": "f856b2d7",
   "metadata": {},
   "outputs": [
    {
     "name": "stdout",
     "output_type": "stream",
     "text": [
      "Not raising error\n"
     ]
    },
    {
     "ename": "Failed",
     "evalue": "DID NOT RAISE <class 'FileNotFoundError'>",
     "output_type": "error",
     "traceback": [
      "\u001b[0;31m---------------------------------------------------------------------------\u001b[0m",
      "\u001b[0;31mFailed\u001b[0m                                    Traceback (most recent call last)",
      "\u001b[0;32m/tmp/ipykernel_17727/4205291367.py\u001b[0m in \u001b[0;36m<module>\u001b[0;34m\u001b[0m\n\u001b[1;32m      5\u001b[0m \u001b[0;34m\u001b[0m\u001b[0m\n\u001b[1;32m      6\u001b[0m \u001b[0;32mwith\u001b[0m \u001b[0mpytest\u001b[0m\u001b[0;34m.\u001b[0m\u001b[0mraises\u001b[0m\u001b[0;34m(\u001b[0m\u001b[0mFileNotFoundError\u001b[0m\u001b[0;34m)\u001b[0m\u001b[0;34m:\u001b[0m\u001b[0;34m\u001b[0m\u001b[0;34m\u001b[0m\u001b[0m\n\u001b[0;32m----> 7\u001b[0;31m     \u001b[0mprint\u001b[0m\u001b[0;34m(\u001b[0m\u001b[0;34m\"Not raising error\"\u001b[0m\u001b[0;34m)\u001b[0m\u001b[0;34m\u001b[0m\u001b[0;34m\u001b[0m\u001b[0m\n\u001b[0m",
      "    \u001b[0;31m[... skipping hidden 1 frame]\u001b[0m\n",
      "\u001b[0;32m~/.local/share/virtualenvs/sledgeconf-python-talk-ST1xoNl-/lib/python3.9/site-packages/_pytest/outcomes.py\u001b[0m in \u001b[0;36mfail\u001b[0;34m(msg, pytrace)\u001b[0m\n\u001b[1;32m    151\u001b[0m     \"\"\"\n\u001b[1;32m    152\u001b[0m     \u001b[0m__tracebackhide__\u001b[0m \u001b[0;34m=\u001b[0m \u001b[0;32mTrue\u001b[0m\u001b[0;34m\u001b[0m\u001b[0;34m\u001b[0m\u001b[0m\n\u001b[0;32m--> 153\u001b[0;31m     \u001b[0;32mraise\u001b[0m \u001b[0mFailed\u001b[0m\u001b[0;34m(\u001b[0m\u001b[0mmsg\u001b[0m\u001b[0;34m=\u001b[0m\u001b[0mmsg\u001b[0m\u001b[0;34m,\u001b[0m \u001b[0mpytrace\u001b[0m\u001b[0;34m=\u001b[0m\u001b[0mpytrace\u001b[0m\u001b[0;34m)\u001b[0m\u001b[0;34m\u001b[0m\u001b[0;34m\u001b[0m\u001b[0m\n\u001b[0m\u001b[1;32m    154\u001b[0m \u001b[0;34m\u001b[0m\u001b[0m\n\u001b[1;32m    155\u001b[0m \u001b[0;34m\u001b[0m\u001b[0m\n",
      "\u001b[0;31mFailed\u001b[0m: DID NOT RAISE <class 'FileNotFoundError'>"
     ]
    }
   ],
   "source": [
    "import pytest, os\n",
    "\n",
    "with pytest.raises(FileNotFoundError):\n",
    "    os.remove('file.txt')\n",
    "    \n",
    "with pytest.raises(FileNotFoundError):\n",
    "    print(\"Not raising error\")"
   ]
  },
  {
   "cell_type": "code",
   "execution_count": null,
   "id": "17f7b28f",
   "metadata": {},
   "outputs": [],
   "source": []
  }
 ],
 "metadata": {
  "kernelspec": {
   "display_name": "Python 3 (ipykernel)",
   "language": "python",
   "name": "python3"
  },
  "language_info": {
   "codemirror_mode": {
    "name": "ipython",
    "version": 3
   },
   "file_extension": ".py",
   "mimetype": "text/x-python",
   "name": "python",
   "nbconvert_exporter": "python",
   "pygments_lexer": "ipython3",
   "version": "3.9.5"
  }
 },
 "nbformat": 4,
 "nbformat_minor": 5
}
