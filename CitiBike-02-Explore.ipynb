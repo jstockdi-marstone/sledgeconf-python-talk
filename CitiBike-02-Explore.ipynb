{
 "cells": [
  {
   "cell_type": "markdown",
   "id": "25373dd7",
   "metadata": {},
   "source": [
    "# Overview\n",
    "\n",
    "Validate and explore the data.  All learning about the data set should go here to onboard readers before reviewing specific notebooks that provide insights\n",
    "\n",
    "\n",
    "## Data Dictionary\n",
    "\n",
    "Data format up to and including `JC-202101-citibike-tripdata.csv` file:\n",
    "\n",
    "```\n",
    "\"tripduration\",\"starttime\",\"stoptime\",\"start station id\",\"start station name\",\"start station latitude\",\"start station longitude\",\"end station id\",\"end station name\",\"end station latitude\",\"end station longitude\",\"bikeid\",\"usertype\",\"birth year\",\"gender\"\n",
    "\n",
    "```\n",
    "Data format:\n",
    "\n",
    "* Trip Duration (seconds)\n",
    "* Start Time and Date\n",
    "* Stop Time and Date\n",
    "* Start Station Name\n",
    "* End Station Name\n",
    "* Station ID\n",
    "* Station Lat/Long\n",
    "* Bike ID\n",
    "* User Type (Customer = 24-hour pass or 3-day pass user; Subscriber = Annual Member)\n",
    "* Gender (Zero=unknown; 1=male; 2=female)\n",
    "* Year of Birth\n",
    "\n",
    "\n",
    "Data format including and after `JC-202102-citibike-tripdata.csv` file:\n",
    "\n",
    "* Ride ID\n",
    "* Rideable type\n",
    "* Started at\n",
    "* Ended at\n",
    "* Start station name\n",
    "* Start station ID\n",
    "* End station name\n",
    "* End station ID\n",
    "* Start latitude\n",
    "* Start longitude\n",
    "* End latitude\n",
    "* End Longitude\n",
    "* Member or casual ride\n",
    "\n",
    "The data format was determined using a simple grep command:\n",
    "```\n",
    " grep -c \"gender\" data/*\n",
    "```\n",
    " "
   ]
  },
  {
   "cell_type": "code",
   "execution_count": null,
   "id": "0734fb93",
   "metadata": {},
   "outputs": [],
   "source": []
  }
 ],
 "metadata": {
  "kernelspec": {
   "display_name": "Python 3 (ipykernel)",
   "language": "python",
   "name": "python3"
  },
  "language_info": {
   "codemirror_mode": {
    "name": "ipython",
    "version": 3
   },
   "file_extension": ".py",
   "mimetype": "text/x-python",
   "name": "python",
   "nbconvert_exporter": "python",
   "pygments_lexer": "ipython3",
   "version": "3.9.5"
  }
 },
 "nbformat": 4,
 "nbformat_minor": 5
}
